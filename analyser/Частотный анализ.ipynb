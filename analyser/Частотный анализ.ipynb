{
 "cells": [
  {
   "cell_type": "markdown",
   "metadata": {},
   "source": [
    "<h1>Частотный анализ лемм произведения</h1>"
   ]
  },
  {
   "cell_type": "markdown",
   "metadata": {},
   "source": [
    "<h3>Установка и проверка работы библиотеки для морфологического разбора слов pymorhy2</h3>"
   ]
  },
  {
   "cell_type": "code",
   "execution_count": 2,
   "metadata": {},
   "outputs": [],
   "source": [
    "import pymorphy2"
   ]
  },
  {
   "cell_type": "code",
   "execution_count": 3,
   "metadata": {},
   "outputs": [
    {
     "data": {
      "text/plain": [
       "'жизнь'"
      ]
     },
     "execution_count": 3,
     "metadata": {},
     "output_type": "execute_result"
    }
   ],
   "source": [
    "morph = pymorphy2.MorphAnalyzer()\n",
    "morph.parse('жизней')[0].normal_form "
   ]
  },
  {
   "cell_type": "markdown",
   "metadata": {},
   "source": [
    "<h3>Предобработка текста</h3>"
   ]
  },
  {
   "cell_type": "markdown",
   "metadata": {},
   "source": [
    "Для проведедения частотного анализа было выбрано произведение Ф.М.Достоевского \"Идиот\", полученное в формате .txt. Для предобработки текста требовалось разбить текст на леммы, для использовалась консольная программа Mystem. \n",
    "В терминале была введена следующая команда:<br>\n",
    "<i>./mystem idiot.txt analized.txt -wnl</i>"
   ]
  },
  {
   "cell_type": "markdown",
   "metadata": {},
   "source": [
    "mystem - скрипт mystem <br>\n",
    "idiot.txt - файл с текстом произведедения <br>\n",
    "analized - название выходного файла с подготовленным текстом произведения <br>\n",
    "-w - опция, с помощью которой осуществляется печать только словарных слов <br>\n",
    "-n - вывод каждой леммы с новой строчки <br>\n",
    "-l - печать только лемм и граммем <br>"
   ]
  },
  {
   "cell_type": "markdown",
   "metadata": {},
   "source": [
    "В результате получили файл analized.txt со списком лемм и граммем исходного произведения."
   ]
  },
  {
   "cell_type": "markdown",
   "metadata": {},
   "source": [
    "<h3>Частотный анализ</h3>"
   ]
  },
  {
   "cell_type": "code",
   "execution_count": 14,
   "metadata": {},
   "outputs": [
    {
     "name": "stdout",
     "output_type": "stream",
     "text": [
      "Частота первых 50 лемм:\n",
      "\n",
      "и : 9836 раз\n",
      "он : 5457 раз\n",
      "я : 5162 раз\n",
      "не : 5035 раз\n",
      "в : 4793 раз\n",
      "что : 4609 раз\n",
      "быть : 3227 раз\n",
      "с : 2869 раз\n",
      "вы : 2750 раз\n",
      "на : 2471 раз\n",
      "весь : 2331 раз\n",
      "она : 2328 раз\n",
      "это : 2255 раз\n",
      "князь : 2180 раз\n",
      "то : 2064 раз\n",
      "как : 1827 раз\n",
      "но : 1766 раз\n",
      "а : 1594 раз\n",
      "же : 1408 раз\n",
      "так : 1328 раз\n",
      "к : 1180 раз\n",
      "мочь : 1146 раз\n",
      "этот : 1138 раз\n",
      "бы : 1084 раз\n",
      "даже : 1001 раз\n",
      "за : 961 раз\n",
      "у : 927 раз\n",
      "ты : 922 раз\n",
      "свой : 919 раз\n",
      "один : 892 раз\n",
      "знать : 884 раз\n",
      "по : 852 раз\n",
      "они : 851 раз\n",
      "да : 838 раз\n",
      "только : 831 раз\n",
      "говорить : 805 раз\n",
      "еще : 789 раз\n",
      "такой : 758 раз\n",
      "сказать : 751 раз\n",
      "себя : 722 раз\n",
      "о : 702 раз\n",
      "человек : 681 раз\n",
      "сам : 669 раз\n",
      "теперь : 663 раз\n",
      "от : 649 раз\n",
      "уже : 644 раз\n",
      "из : 639 раз\n",
      "вдруг : 629 раз\n",
      "который : 613 раз\n",
      "самый : 611 раз\n"
     ]
    }
   ],
   "source": [
    "lem_count = 50\n",
    "fin = open('analized.txt', 'r')\n",
    "word = {}\n",
    "for line in fin:\n",
    "    lemma = line.split('|')[0].strip()\n",
    "    if lemma in word:\n",
    "        word[lemma] += 1\n",
    "    else:\n",
    "        word[lemma] = 1\n",
    "\n",
    "ans = []\n",
    "for lemma, count in word.items():\n",
    "    ans.append((count, lemma))\n",
    "\n",
    "ans = sorted(ans, reverse=True)\n",
    "print('Частота первых', lem_count, 'лемм:\\n')\n",
    "for count, lemma in ans[:lem_count]:\n",
    "    print(lemma, ':', count, 'раз')\n",
    "\n",
    "fin.close()"
   ]
  },
  {
   "cell_type": "markdown",
   "metadata": {},
   "source": [
    "На первых местах видим служебные части речи и местоимения."
   ]
  }
 ],
 "metadata": {
  "kernelspec": {
   "display_name": "Python 3",
   "language": "python",
   "name": "python3"
  },
  "language_info": {
   "codemirror_mode": {
    "name": "ipython",
    "version": 3
   },
   "file_extension": ".py",
   "mimetype": "text/x-python",
   "name": "python",
   "nbconvert_exporter": "python",
   "pygments_lexer": "ipython3",
   "version": "3.8.2"
  }
 },
 "nbformat": 4,
 "nbformat_minor": 4
}
