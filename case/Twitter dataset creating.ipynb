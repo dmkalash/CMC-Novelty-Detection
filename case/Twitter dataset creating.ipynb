{
 "cells": [
  {
   "cell_type": "markdown",
   "metadata": {},
   "source": [
    "# Датасеты к задаче выявления новизны"
   ]
  },
  {
   "cell_type": "markdown",
   "metadata": {},
   "source": [
    "В данном ноутбуке будет описан процесс получения датасета для задачи выявления новизны - датасета, собранного из реальных данных(твиты) и размеченного самостоятельно определенным образом."
   ]
  },
  {
   "cell_type": "markdown",
   "metadata": {},
   "source": [
    "## Новые темы обсуждения в твиттере"
   ]
  },
  {
   "cell_type": "markdown",
   "metadata": {},
   "source": [
    "Из открытых источников были собраны различные датасеты, в которых описаны твиты за различное время, и каждый датасет отличается тематикой от остальных. Тематика при сборе датасетов определялась в основном хештегами в твиттах.\n",
    "\n",
    "Агрегирующий сайт, с помощью которого можно найти все датасеты:\n",
    "\n",
    "https://www.trackmyhashtag.com/blog/free-twitter-datasets/"
   ]
  },
  {
   "cell_type": "markdown",
   "metadata": {},
   "source": [
    "Цель: скачать все датасеты, выделить в них временную метку и текст и затем склеить все датасеты в один большой, сохранить его версию с временными метками и без них."
   ]
  },
  {
   "cell_type": "code",
   "execution_count": 1,
   "metadata": {},
   "outputs": [],
   "source": [
    "import numpy as np\n",
    "import pandas as pd\n",
    "from matplotlib import pyplot as plt\n",
    "import os\n",
    "from tqdm.notebook import tqdm"
   ]
  },
  {
   "cell_type": "code",
   "execution_count": 2,
   "metadata": {},
   "outputs": [],
   "source": [
    "# s = ''.join(df1.content)\n",
    "# symbols = set(s)\n",
    "# ords = list(map(ord, symbols))\n",
    "# print( list( map(chr, filter(lambda code: 33 <= code <= 126, ords)) ) )\n",
    "#print( list( map(chr, np.arange(33, 127).tolist()) ) )\n",
    "#print( list( map(chr, np.arange(1, 161).tolist()) ) )\n",
    "#set('abcdefg') & set('defghjui')\n",
    "alphabet = list( map(chr, np.arange(1, 161).tolist()) ) # 256"
   ]
  },
  {
   "cell_type": "code",
   "execution_count": null,
   "metadata": {},
   "outputs": [],
   "source": []
  },
  {
   "cell_type": "markdown",
   "metadata": {},
   "source": [
    "### Covid-19"
   ]
  },
  {
   "cell_type": "code",
   "execution_count": 3,
   "metadata": {},
   "outputs": [],
   "source": [
    "df1 = pd.read_csv('twitter_dataset/COVID-19/COVID.csv')"
   ]
  },
  {
   "cell_type": "code",
   "execution_count": 4,
   "metadata": {},
   "outputs": [
    {
     "data": {
      "text/html": [
       "<div>\n",
       "<style scoped>\n",
       "    .dataframe tbody tr th:only-of-type {\n",
       "        vertical-align: middle;\n",
       "    }\n",
       "\n",
       "    .dataframe tbody tr th {\n",
       "        vertical-align: top;\n",
       "    }\n",
       "\n",
       "    .dataframe thead th {\n",
       "        text-align: right;\n",
       "    }\n",
       "</style>\n",
       "<table border=\"1\" class=\"dataframe\">\n",
       "  <thead>\n",
       "    <tr style=\"text-align: right;\">\n",
       "      <th></th>\n",
       "      <th>Tweet Id</th>\n",
       "      <th>Tweet URL</th>\n",
       "      <th>Tweet Posted Time (UTC)</th>\n",
       "      <th>Tweet Content</th>\n",
       "      <th>Tweet Type</th>\n",
       "      <th>Client</th>\n",
       "      <th>Retweets Received</th>\n",
       "      <th>Likes Received</th>\n",
       "      <th>Tweet Location</th>\n",
       "      <th>Lat</th>\n",
       "      <th>...</th>\n",
       "      <th>User Id</th>\n",
       "      <th>Name</th>\n",
       "      <th>Screen Name</th>\n",
       "      <th>User Bio</th>\n",
       "      <th>Verified or Non-Verified</th>\n",
       "      <th>Profile URL</th>\n",
       "      <th>Protected or Non-protected</th>\n",
       "      <th>User Followers</th>\n",
       "      <th>User Following</th>\n",
       "      <th>User Account Creation Date</th>\n",
       "    </tr>\n",
       "  </thead>\n",
       "  <tbody>\n",
       "    <tr>\n",
       "      <th>0</th>\n",
       "      <td>\"1233417783175778304\"</td>\n",
       "      <td>https://twitter.com/Giussi92/status/1233417783...</td>\n",
       "      <td>28 Feb 2020 15:44:49</td>\n",
       "      <td>Also the entire Swiss Football League is on ho...</td>\n",
       "      <td>Tweet</td>\n",
       "      <td>Twitter for iPhone</td>\n",
       "      <td>0</td>\n",
       "      <td>0</td>\n",
       "      <td>NaN</td>\n",
       "      <td>NaN</td>\n",
       "      <td>...</td>\n",
       "      <td>\"1556856595\"</td>\n",
       "      <td>Giuseppe Gentile</td>\n",
       "      <td>Giussi92</td>\n",
       "      <td>NaN</td>\n",
       "      <td>Verified</td>\n",
       "      <td>https://twitter.com/Giussi92</td>\n",
       "      <td>Non-Protected</td>\n",
       "      <td>3071</td>\n",
       "      <td>100</td>\n",
       "      <td>30 Jun 2013 00:27:50</td>\n",
       "    </tr>\n",
       "    <tr>\n",
       "      <th>1</th>\n",
       "      <td>\"1233417742520332290\"</td>\n",
       "      <td>https://twitter.com/LAMofficial/status/1233417...</td>\n",
       "      <td>28 Feb 2020 15:44:40</td>\n",
       "      <td>World Health Org Official: Trump’s press confe...</td>\n",
       "      <td>Tweet</td>\n",
       "      <td>Twitter Web App</td>\n",
       "      <td>0</td>\n",
       "      <td>0</td>\n",
       "      <td>Los Angeles CA USA</td>\n",
       "      <td>NaN</td>\n",
       "      <td>...</td>\n",
       "      <td>\"113738369\"</td>\n",
       "      <td>London After Midnight</td>\n",
       "      <td>LAMofficial</td>\n",
       "      <td>London After Midnight is a music project by wr...</td>\n",
       "      <td>Verified</td>\n",
       "      <td>https://twitter.com/LAMofficial</td>\n",
       "      <td>Non-Protected</td>\n",
       "      <td>4189</td>\n",
       "      <td>84</td>\n",
       "      <td>12 Feb 2010 21:43:17</td>\n",
       "    </tr>\n",
       "  </tbody>\n",
       "</table>\n",
       "<p>2 rows × 22 columns</p>\n",
       "</div>"
      ],
      "text/plain": [
       "                Tweet Id                                          Tweet URL  \\\n",
       "0  \"1233417783175778304\"  https://twitter.com/Giussi92/status/1233417783...   \n",
       "1  \"1233417742520332290\"  https://twitter.com/LAMofficial/status/1233417...   \n",
       "\n",
       "  Tweet Posted Time (UTC)                                      Tweet Content  \\\n",
       "0    28 Feb 2020 15:44:49  Also the entire Swiss Football League is on ho...   \n",
       "1    28 Feb 2020 15:44:40  World Health Org Official: Trump’s press confe...   \n",
       "\n",
       "  Tweet Type              Client  Retweets Received  Likes Received  \\\n",
       "0      Tweet  Twitter for iPhone                  0               0   \n",
       "1      Tweet     Twitter Web App                  0               0   \n",
       "\n",
       "       Tweet Location  Lat  ...       User Id                   Name  \\\n",
       "0                 NaN  NaN  ...  \"1556856595\"       Giuseppe Gentile   \n",
       "1  Los Angeles CA USA  NaN  ...   \"113738369\"  London After Midnight   \n",
       "\n",
       "   Screen Name                                           User Bio  \\\n",
       "0     Giussi92                                                NaN   \n",
       "1  LAMofficial  London After Midnight is a music project by wr...   \n",
       "\n",
       "  Verified or Non-Verified                      Profile URL  \\\n",
       "0                 Verified     https://twitter.com/Giussi92   \n",
       "1                 Verified  https://twitter.com/LAMofficial   \n",
       "\n",
       "  Protected or Non-protected User Followers User Following  \\\n",
       "0              Non-Protected           3071            100   \n",
       "1              Non-Protected           4189             84   \n",
       "\n",
       "   User Account Creation Date  \n",
       "0        30 Jun 2013 00:27:50  \n",
       "1        12 Feb 2010 21:43:17  \n",
       "\n",
       "[2 rows x 22 columns]"
      ]
     },
     "execution_count": 4,
     "metadata": {},
     "output_type": "execute_result"
    }
   ],
   "source": [
    "df1.head(2)"
   ]
  },
  {
   "cell_type": "code",
   "execution_count": 5,
   "metadata": {},
   "outputs": [
    {
     "name": "stdout",
     "output_type": "stream",
     "text": [
      "<class 'pandas.core.frame.DataFrame'>\n",
      "RangeIndex: 60160 entries, 0 to 60159\n",
      "Data columns (total 22 columns):\n",
      " #   Column                      Non-Null Count  Dtype  \n",
      "---  ------                      --------------  -----  \n",
      " 0   Tweet Id                    60160 non-null  object \n",
      " 1   Tweet URL                   60160 non-null  object \n",
      " 2   Tweet Posted Time (UTC)     60160 non-null  object \n",
      " 3   Tweet Content               60160 non-null  object \n",
      " 4   Tweet Type                  60160 non-null  object \n",
      " 5   Client                      60160 non-null  object \n",
      " 6   Retweets Received           60160 non-null  int64  \n",
      " 7   Likes Received              60160 non-null  int64  \n",
      " 8   Tweet Location              40620 non-null  object \n",
      " 9   Lat                         19 non-null     float64\n",
      " 10  Long                        19 non-null     float64\n",
      " 11  Tweet Language              59012 non-null  object \n",
      " 12  User Id                     60160 non-null  object \n",
      " 13  Name                        60159 non-null  object \n",
      " 14  Screen Name                 60160 non-null  object \n",
      " 15  User Bio                    49718 non-null  object \n",
      " 16  Verified or Non-Verified    60160 non-null  object \n",
      " 17  Profile URL                 60160 non-null  object \n",
      " 18  Protected or Non-protected  60160 non-null  object \n",
      " 19  User Followers              60160 non-null  int64  \n",
      " 20  User Following              60160 non-null  int64  \n",
      " 21  User Account Creation Date  60160 non-null  object \n",
      "dtypes: float64(2), int64(4), object(16)\n",
      "memory usage: 10.1+ MB\n"
     ]
    }
   ],
   "source": [
    "df1.info()"
   ]
  },
  {
   "cell_type": "code",
   "execution_count": 6,
   "metadata": {},
   "outputs": [],
   "source": [
    "df1 = df1[['Tweet Posted Time (UTC)', 'Tweet Content']]\n",
    "df1.columns = ['time', 'content']"
   ]
  },
  {
   "cell_type": "code",
   "execution_count": 7,
   "metadata": {},
   "outputs": [],
   "source": [
    "df1['time'] = pd.to_datetime(df1['time'], utc=True)"
   ]
  },
  {
   "cell_type": "code",
   "execution_count": 8,
   "metadata": {},
   "outputs": [],
   "source": [
    "drop_ind = []\n",
    "for i, line in enumerate(df1.content):\n",
    "    if len(set(line) - set(alphabet)) != 0:\n",
    "        drop_ind.append(i)\n",
    "df1.drop(drop_ind, inplace=True)"
   ]
  },
  {
   "cell_type": "code",
   "execution_count": 9,
   "metadata": {},
   "outputs": [
    {
     "name": "stdout",
     "output_type": "stream",
     "text": [
      "(27535, 2)\n"
     ]
    },
    {
     "data": {
      "application/vnd.jupyter.widget-view+json": {
       "model_id": "a2620fb897eb445d91983009171dae13",
       "version_major": 2,
       "version_minor": 0
      },
      "text/plain": [
       "HBox(children=(HTML(value=''), FloatProgress(value=1.0, bar_style='info', layout=Layout(width='20px'), max=1.0…"
      ]
     },
     "metadata": {},
     "output_type": "display_data"
    },
    {
     "name": "stdout",
     "output_type": "stream",
     "text": [
      "\n",
      "7603\n"
     ]
    }
   ],
   "source": [
    "df1.sort_values( by='time', inplace=True )\n",
    "# df1 = df1.iloc[:20000]\n",
    "print( df1.shape )\n",
    "df1.drop_duplicates(subset=['content'], inplace=True)\n",
    "ind = []\n",
    "for i, line in tqdm( enumerate( df1.content ) ):\n",
    "    if 'coronavirus' in line.lower() and 'rt ' not in line.lower():\n",
    "        ind.append(i)\n",
    "        \n",
    "print(len(ind))\n",
    "df1 = df1.iloc[ind]"
   ]
  },
  {
   "cell_type": "code",
   "execution_count": 10,
   "metadata": {},
   "outputs": [
    {
     "data": {
      "text/html": [
       "<div>\n",
       "<style scoped>\n",
       "    .dataframe tbody tr th:only-of-type {\n",
       "        vertical-align: middle;\n",
       "    }\n",
       "\n",
       "    .dataframe tbody tr th {\n",
       "        vertical-align: top;\n",
       "    }\n",
       "\n",
       "    .dataframe thead th {\n",
       "        text-align: right;\n",
       "    }\n",
       "</style>\n",
       "<table border=\"1\" class=\"dataframe\">\n",
       "  <thead>\n",
       "    <tr style=\"text-align: right;\">\n",
       "      <th></th>\n",
       "      <th>time</th>\n",
       "      <th>content</th>\n",
       "    </tr>\n",
       "  </thead>\n",
       "  <tbody>\n",
       "    <tr>\n",
       "      <th>60159</th>\n",
       "      <td>2019-12-01 03:17:00+00:00</td>\n",
       "      <td>A review of asymptomatic and sub-clinical Midd...</td>\n",
       "    </tr>\n",
       "    <tr>\n",
       "      <th>60148</th>\n",
       "      <td>2019-12-12 20:30:55+00:00</td>\n",
       "      <td>Molecular mechanism for antibody-dependent enh...</td>\n",
       "    </tr>\n",
       "  </tbody>\n",
       "</table>\n",
       "</div>"
      ],
      "text/plain": [
       "                           time  \\\n",
       "60159 2019-12-01 03:17:00+00:00   \n",
       "60148 2019-12-12 20:30:55+00:00   \n",
       "\n",
       "                                                 content  \n",
       "60159  A review of asymptomatic and sub-clinical Midd...  \n",
       "60148  Molecular mechanism for antibody-dependent enh...  "
      ]
     },
     "execution_count": 10,
     "metadata": {},
     "output_type": "execute_result"
    }
   ],
   "source": [
    "df1.head(2)"
   ]
  },
  {
   "cell_type": "code",
   "execution_count": 11,
   "metadata": {},
   "outputs": [
    {
     "name": "stdout",
     "output_type": "stream",
     "text": [
      "<class 'pandas.core.frame.DataFrame'>\n",
      "Int64Index: 7603 entries, 60159 to 0\n",
      "Data columns (total 2 columns):\n",
      " #   Column   Non-Null Count  Dtype              \n",
      "---  ------   --------------  -----              \n",
      " 0   time     7603 non-null   datetime64[ns, UTC]\n",
      " 1   content  7603 non-null   object             \n",
      "dtypes: datetime64[ns, UTC](1), object(1)\n",
      "memory usage: 178.2+ KB\n"
     ]
    }
   ],
   "source": [
    "df1.info()"
   ]
  },
  {
   "cell_type": "markdown",
   "metadata": {},
   "source": [
    "### Russian troll tweets"
   ]
  },
  {
   "cell_type": "markdown",
   "metadata": {},
   "source": [
    "Несколько .csv файлов с твитами российских \"тролей\""
   ]
  },
  {
   "cell_type": "code",
   "execution_count": 12,
   "metadata": {},
   "outputs": [
    {
     "data": {
      "text/html": [
       "<div>\n",
       "<style scoped>\n",
       "    .dataframe tbody tr th:only-of-type {\n",
       "        vertical-align: middle;\n",
       "    }\n",
       "\n",
       "    .dataframe tbody tr th {\n",
       "        vertical-align: top;\n",
       "    }\n",
       "\n",
       "    .dataframe thead th {\n",
       "        text-align: right;\n",
       "    }\n",
       "</style>\n",
       "<table border=\"1\" class=\"dataframe\">\n",
       "  <thead>\n",
       "    <tr style=\"text-align: right;\">\n",
       "      <th></th>\n",
       "      <th>external_author_id</th>\n",
       "      <th>author</th>\n",
       "      <th>content</th>\n",
       "      <th>region</th>\n",
       "      <th>language</th>\n",
       "      <th>publish_date</th>\n",
       "      <th>harvested_date</th>\n",
       "      <th>following</th>\n",
       "      <th>followers</th>\n",
       "      <th>updates</th>\n",
       "      <th>...</th>\n",
       "      <th>account_type</th>\n",
       "      <th>retweet</th>\n",
       "      <th>account_category</th>\n",
       "      <th>new_june_2018</th>\n",
       "      <th>alt_external_id</th>\n",
       "      <th>tweet_id</th>\n",
       "      <th>article_url</th>\n",
       "      <th>tco1_step1</th>\n",
       "      <th>tco2_step1</th>\n",
       "      <th>tco3_step1</th>\n",
       "    </tr>\n",
       "  </thead>\n",
       "  <tbody>\n",
       "    <tr>\n",
       "      <th>0</th>\n",
       "      <td>906000000000000000</td>\n",
       "      <td>10_GOP</td>\n",
       "      <td>\"We have a sitting Democrat US Senator on tria...</td>\n",
       "      <td>Unknown</td>\n",
       "      <td>English</td>\n",
       "      <td>10/1/2017 19:58</td>\n",
       "      <td>10/1/2017 19:59</td>\n",
       "      <td>1052</td>\n",
       "      <td>9636</td>\n",
       "      <td>253</td>\n",
       "      <td>...</td>\n",
       "      <td>Right</td>\n",
       "      <td>0</td>\n",
       "      <td>RightTroll</td>\n",
       "      <td>0</td>\n",
       "      <td>905874659358453760</td>\n",
       "      <td>914580356430536707</td>\n",
       "      <td>http://twitter.com/905874659358453760/statuses...</td>\n",
       "      <td>https://twitter.com/10_gop/status/914580356430...</td>\n",
       "      <td>NaN</td>\n",
       "      <td>NaN</td>\n",
       "    </tr>\n",
       "    <tr>\n",
       "      <th>1</th>\n",
       "      <td>906000000000000000</td>\n",
       "      <td>10_GOP</td>\n",
       "      <td>Marshawn Lynch arrives to game in anti-Trump s...</td>\n",
       "      <td>Unknown</td>\n",
       "      <td>English</td>\n",
       "      <td>10/1/2017 22:43</td>\n",
       "      <td>10/1/2017 22:43</td>\n",
       "      <td>1054</td>\n",
       "      <td>9637</td>\n",
       "      <td>254</td>\n",
       "      <td>...</td>\n",
       "      <td>Right</td>\n",
       "      <td>0</td>\n",
       "      <td>RightTroll</td>\n",
       "      <td>0</td>\n",
       "      <td>905874659358453760</td>\n",
       "      <td>914621840496189440</td>\n",
       "      <td>http://twitter.com/905874659358453760/statuses...</td>\n",
       "      <td>https://twitter.com/damienwoody/status/9145685...</td>\n",
       "      <td>NaN</td>\n",
       "      <td>NaN</td>\n",
       "    </tr>\n",
       "  </tbody>\n",
       "</table>\n",
       "<p>2 rows × 21 columns</p>\n",
       "</div>"
      ],
      "text/plain": [
       "   external_author_id  author  \\\n",
       "0  906000000000000000  10_GOP   \n",
       "1  906000000000000000  10_GOP   \n",
       "\n",
       "                                             content   region language  \\\n",
       "0  \"We have a sitting Democrat US Senator on tria...  Unknown  English   \n",
       "1  Marshawn Lynch arrives to game in anti-Trump s...  Unknown  English   \n",
       "\n",
       "      publish_date   harvested_date  following  followers  updates  ...  \\\n",
       "0  10/1/2017 19:58  10/1/2017 19:59       1052       9636      253  ...   \n",
       "1  10/1/2017 22:43  10/1/2017 22:43       1054       9637      254  ...   \n",
       "\n",
       "  account_type retweet  account_category new_june_2018     alt_external_id  \\\n",
       "0        Right       0        RightTroll             0  905874659358453760   \n",
       "1        Right       0        RightTroll             0  905874659358453760   \n",
       "\n",
       "             tweet_id                                        article_url  \\\n",
       "0  914580356430536707  http://twitter.com/905874659358453760/statuses...   \n",
       "1  914621840496189440  http://twitter.com/905874659358453760/statuses...   \n",
       "\n",
       "                                          tco1_step1 tco2_step1 tco3_step1  \n",
       "0  https://twitter.com/10_gop/status/914580356430...        NaN        NaN  \n",
       "1  https://twitter.com/damienwoody/status/9145685...        NaN        NaN  \n",
       "\n",
       "[2 rows x 21 columns]"
      ]
     },
     "execution_count": 12,
     "metadata": {},
     "output_type": "execute_result"
    }
   ],
   "source": [
    "df2 = pd.read_csv('twitter_dataset/russian-troll-tweets/1.csv')\n",
    "df2.head(2)"
   ]
  },
  {
   "cell_type": "code",
   "execution_count": 13,
   "metadata": {},
   "outputs": [],
   "source": [
    "def append(df1, df2):\n",
    "    if df1.size == 0:\n",
    "        return df2\n",
    "    return pd.concat( [df1, df2] )"
   ]
  },
  {
   "cell_type": "code",
   "execution_count": 14,
   "metadata": {},
   "outputs": [],
   "source": [
    "df2 = pd.DataFrame()"
   ]
  },
  {
   "cell_type": "code",
   "execution_count": 15,
   "metadata": {},
   "outputs": [],
   "source": [
    "dataset_dir = 'twitter_dataset/russian-troll-tweets'\n",
    "for i, filename in enumerate( os.listdir(dataset_dir) ):\n",
    "    if filename[-3:] != 'csv':\n",
    "        continue\n",
    "    tmp = pd.read_csv('/'.join( (dataset_dir, filename) ))\n",
    "    tmp = tmp[['publish_date', 'content']]\n",
    "    tmp.columns = ['time', 'content']\n",
    "    df2 = append(df2, tmp)\n",
    "    break"
   ]
  },
  {
   "cell_type": "code",
   "execution_count": 16,
   "metadata": {},
   "outputs": [
    {
     "data": {
      "text/plain": [
       "(50000, 2)"
      ]
     },
     "execution_count": 16,
     "metadata": {},
     "output_type": "execute_result"
    }
   ],
   "source": [
    "df2['time'] = pd.to_datetime( df2['time'], utc=True )\n",
    "df2.sort_values( by='time', inplace=True )\n",
    "df2.dropna(inplace=True)\n",
    "df2 = df2.iloc[:50000].copy()\n",
    "df2.shape"
   ]
  },
  {
   "cell_type": "code",
   "execution_count": 17,
   "metadata": {},
   "outputs": [
    {
     "data": {
      "text/html": [
       "<div>\n",
       "<style scoped>\n",
       "    .dataframe tbody tr th:only-of-type {\n",
       "        vertical-align: middle;\n",
       "    }\n",
       "\n",
       "    .dataframe tbody tr th {\n",
       "        vertical-align: top;\n",
       "    }\n",
       "\n",
       "    .dataframe thead th {\n",
       "        text-align: right;\n",
       "    }\n",
       "</style>\n",
       "<table border=\"1\" class=\"dataframe\">\n",
       "  <thead>\n",
       "    <tr style=\"text-align: right;\">\n",
       "      <th></th>\n",
       "      <th>time</th>\n",
       "      <th>content</th>\n",
       "    </tr>\n",
       "  </thead>\n",
       "  <tbody>\n",
       "    <tr>\n",
       "      <th>119788</th>\n",
       "      <td>2012-02-02 00:35:00+00:00</td>\n",
       "      <td>Реклама в Facebook: причина успеха: Facebook с...</td>\n",
       "    </tr>\n",
       "    <tr>\n",
       "      <th>119789</th>\n",
       "      <td>2012-02-02 00:58:00+00:00</td>\n",
       "      <td>\"Локомотив\" и \"Зенит\" так и не договорились по...</td>\n",
       "    </tr>\n",
       "  </tbody>\n",
       "</table>\n",
       "</div>"
      ],
      "text/plain": [
       "                            time  \\\n",
       "119788 2012-02-02 00:35:00+00:00   \n",
       "119789 2012-02-02 00:58:00+00:00   \n",
       "\n",
       "                                                  content  \n",
       "119788  Реклама в Facebook: причина успеха: Facebook с...  \n",
       "119789  \"Локомотив\" и \"Зенит\" так и не договорились по...  "
      ]
     },
     "execution_count": 17,
     "metadata": {},
     "output_type": "execute_result"
    }
   ],
   "source": [
    "df2.head(2)"
   ]
  },
  {
   "cell_type": "code",
   "execution_count": 19,
   "metadata": {},
   "outputs": [],
   "source": [
    "drop_ind = []\n",
    "for i, line in enumerate( df2.content ): \n",
    "    if len(set(line) - set(alphabet)) != 0:\n",
    "        drop_ind.append(i)"
   ]
  },
  {
   "cell_type": "code",
   "execution_count": 20,
   "metadata": {},
   "outputs": [
    {
     "data": {
      "text/plain": [
       "23945"
      ]
     },
     "execution_count": 20,
     "metadata": {},
     "output_type": "execute_result"
    }
   ],
   "source": [
    "len(drop_ind)"
   ]
  },
  {
   "cell_type": "code",
   "execution_count": 21,
   "metadata": {},
   "outputs": [
    {
     "data": {
      "text/plain": [
       "(50000, 2)"
      ]
     },
     "execution_count": 21,
     "metadata": {},
     "output_type": "execute_result"
    }
   ],
   "source": [
    "df2.shape"
   ]
  },
  {
   "cell_type": "code",
   "execution_count": 22,
   "metadata": {},
   "outputs": [
    {
     "data": {
      "text/plain": [
       "(26055, 2)"
      ]
     },
     "execution_count": 22,
     "metadata": {},
     "output_type": "execute_result"
    }
   ],
   "source": [
    "df2.drop(df2.index[drop_ind], axis=0, inplace=True)\n",
    "df2.shape"
   ]
  },
  {
   "cell_type": "code",
   "execution_count": 23,
   "metadata": {},
   "outputs": [
    {
     "name": "stdout",
     "output_type": "stream",
     "text": [
      "(26055, 2)\n"
     ]
    },
    {
     "data": {
      "application/vnd.jupyter.widget-view+json": {
       "model_id": "b792d8243e064c9786feb32af67f906a",
       "version_major": 2,
       "version_minor": 0
      },
      "text/plain": [
       "HBox(children=(HTML(value=''), FloatProgress(value=1.0, bar_style='info', layout=Layout(width='20px'), max=1.0…"
      ]
     },
     "metadata": {},
     "output_type": "display_data"
    },
    {
     "name": "stdout",
     "output_type": "stream",
     "text": [
      "\n",
      "22871\n"
     ]
    }
   ],
   "source": [
    "print( df2.shape )\n",
    "df2.drop_duplicates(subset=['content'], inplace=True)\n",
    "ind = []\n",
    "for i, line in tqdm( enumerate( df2.content ) ):\n",
    "    if 'rt ' not in line.lower():\n",
    "        ind.append(i)\n",
    "        \n",
    "print(len(ind))\n",
    "df2 = df2.iloc[ind]"
   ]
  },
  {
   "cell_type": "code",
   "execution_count": 24,
   "metadata": {},
   "outputs": [
    {
     "data": {
      "text/html": [
       "<div>\n",
       "<style scoped>\n",
       "    .dataframe tbody tr th:only-of-type {\n",
       "        vertical-align: middle;\n",
       "    }\n",
       "\n",
       "    .dataframe tbody tr th {\n",
       "        vertical-align: top;\n",
       "    }\n",
       "\n",
       "    .dataframe thead th {\n",
       "        text-align: right;\n",
       "    }\n",
       "</style>\n",
       "<table border=\"1\" class=\"dataframe\">\n",
       "  <thead>\n",
       "    <tr style=\"text-align: right;\">\n",
       "      <th></th>\n",
       "      <th>time</th>\n",
       "      <th>content</th>\n",
       "    </tr>\n",
       "  </thead>\n",
       "  <tbody>\n",
       "    <tr>\n",
       "      <th>17796</th>\n",
       "      <td>2012-07-09 12:16:00+00:00</td>\n",
       "      <td>aku rak melu ae piye wes -_- drpd ribet</td>\n",
       "    </tr>\n",
       "    <tr>\n",
       "      <th>17797</th>\n",
       "      <td>2012-07-09 12:20:00+00:00</td>\n",
       "      <td>'@BaguzTok_ wkwk berusaha utk membuat tmn baha...</td>\n",
       "    </tr>\n",
       "  </tbody>\n",
       "</table>\n",
       "</div>"
      ],
      "text/plain": [
       "                           time  \\\n",
       "17796 2012-07-09 12:16:00+00:00   \n",
       "17797 2012-07-09 12:20:00+00:00   \n",
       "\n",
       "                                                 content  \n",
       "17796            aku rak melu ae piye wes -_- drpd ribet  \n",
       "17797  '@BaguzTok_ wkwk berusaha utk membuat tmn baha...  "
      ]
     },
     "execution_count": 24,
     "metadata": {},
     "output_type": "execute_result"
    }
   ],
   "source": [
    "df2.head(2)"
   ]
  },
  {
   "cell_type": "code",
   "execution_count": 25,
   "metadata": {},
   "outputs": [
    {
     "name": "stdout",
     "output_type": "stream",
     "text": [
      "<class 'pandas.core.frame.DataFrame'>\n",
      "Int64Index: 22871 entries, 17796 to 158234\n",
      "Data columns (total 2 columns):\n",
      " #   Column   Non-Null Count  Dtype              \n",
      "---  ------   --------------  -----              \n",
      " 0   time     22871 non-null  datetime64[ns, UTC]\n",
      " 1   content  22871 non-null  object             \n",
      "dtypes: datetime64[ns, UTC](1), object(1)\n",
      "memory usage: 536.0+ KB\n"
     ]
    }
   ],
   "source": [
    "df2.info()"
   ]
  },
  {
   "cell_type": "markdown",
   "metadata": {},
   "source": [
    "### Apple Sentiment Tweets"
   ]
  },
  {
   "cell_type": "code",
   "execution_count": 26,
   "metadata": {},
   "outputs": [],
   "source": [
    "base_dir = 'twitter_dataset/apple-sentiment'\n",
    "df3 = pd.read_csv('/'.join((base_dir, 'data.csv')), encoding=\"ISO-8859-1\")"
   ]
  },
  {
   "cell_type": "code",
   "execution_count": 27,
   "metadata": {},
   "outputs": [
    {
     "data": {
      "text/html": [
       "<div>\n",
       "<style scoped>\n",
       "    .dataframe tbody tr th:only-of-type {\n",
       "        vertical-align: middle;\n",
       "    }\n",
       "\n",
       "    .dataframe tbody tr th {\n",
       "        vertical-align: top;\n",
       "    }\n",
       "\n",
       "    .dataframe thead th {\n",
       "        text-align: right;\n",
       "    }\n",
       "</style>\n",
       "<table border=\"1\" class=\"dataframe\">\n",
       "  <thead>\n",
       "    <tr style=\"text-align: right;\">\n",
       "      <th></th>\n",
       "      <th>_unit_id</th>\n",
       "      <th>_golden</th>\n",
       "      <th>_unit_state</th>\n",
       "      <th>_trusted_judgments</th>\n",
       "      <th>_last_judgment_at</th>\n",
       "      <th>sentiment</th>\n",
       "      <th>sentiment:confidence</th>\n",
       "      <th>date</th>\n",
       "      <th>id</th>\n",
       "      <th>query</th>\n",
       "      <th>sentiment_gold</th>\n",
       "      <th>text</th>\n",
       "    </tr>\n",
       "  </thead>\n",
       "  <tbody>\n",
       "    <tr>\n",
       "      <th>0</th>\n",
       "      <td>623495513</td>\n",
       "      <td>True</td>\n",
       "      <td>golden</td>\n",
       "      <td>10</td>\n",
       "      <td>NaN</td>\n",
       "      <td>3</td>\n",
       "      <td>0.6264</td>\n",
       "      <td>Mon Dec 01 19:30:03 +0000 2014</td>\n",
       "      <td>5.400000e+17</td>\n",
       "      <td>#AAPL OR @Apple</td>\n",
       "      <td>3\\nnot_relevant</td>\n",
       "      <td>#AAPL:The 10 best Steve Jobs emails ever...htt...</td>\n",
       "    </tr>\n",
       "    <tr>\n",
       "      <th>1</th>\n",
       "      <td>623495514</td>\n",
       "      <td>True</td>\n",
       "      <td>golden</td>\n",
       "      <td>12</td>\n",
       "      <td>NaN</td>\n",
       "      <td>3</td>\n",
       "      <td>0.8129</td>\n",
       "      <td>Mon Dec 01 19:43:51 +0000 2014</td>\n",
       "      <td>5.400000e+17</td>\n",
       "      <td>#AAPL OR @Apple</td>\n",
       "      <td>3\\n1</td>\n",
       "      <td>RT @JPDesloges: Why AAPL Stock Had a Mini-Flas...</td>\n",
       "    </tr>\n",
       "  </tbody>\n",
       "</table>\n",
       "</div>"
      ],
      "text/plain": [
       "    _unit_id  _golden _unit_state  _trusted_judgments _last_judgment_at  \\\n",
       "0  623495513     True      golden                  10               NaN   \n",
       "1  623495514     True      golden                  12               NaN   \n",
       "\n",
       "  sentiment  sentiment:confidence                            date  \\\n",
       "0         3                0.6264  Mon Dec 01 19:30:03 +0000 2014   \n",
       "1         3                0.8129  Mon Dec 01 19:43:51 +0000 2014   \n",
       "\n",
       "             id            query   sentiment_gold  \\\n",
       "0  5.400000e+17  #AAPL OR @Apple  3\\nnot_relevant   \n",
       "1  5.400000e+17  #AAPL OR @Apple             3\\n1   \n",
       "\n",
       "                                                text  \n",
       "0  #AAPL:The 10 best Steve Jobs emails ever...htt...  \n",
       "1  RT @JPDesloges: Why AAPL Stock Had a Mini-Flas...  "
      ]
     },
     "execution_count": 27,
     "metadata": {},
     "output_type": "execute_result"
    }
   ],
   "source": [
    "df3.head(2)"
   ]
  },
  {
   "cell_type": "code",
   "execution_count": 28,
   "metadata": {},
   "outputs": [],
   "source": [
    "df3 = df3[['date', 'text']]\n",
    "df3.columns = ['time', 'content']"
   ]
  },
  {
   "cell_type": "code",
   "execution_count": 29,
   "metadata": {},
   "outputs": [],
   "source": [
    "df3['time'] = pd.to_datetime(df3['time'])"
   ]
  },
  {
   "cell_type": "code",
   "execution_count": 30,
   "metadata": {},
   "outputs": [
    {
     "data": {
      "text/html": [
       "<div>\n",
       "<style scoped>\n",
       "    .dataframe tbody tr th:only-of-type {\n",
       "        vertical-align: middle;\n",
       "    }\n",
       "\n",
       "    .dataframe tbody tr th {\n",
       "        vertical-align: top;\n",
       "    }\n",
       "\n",
       "    .dataframe thead th {\n",
       "        text-align: right;\n",
       "    }\n",
       "</style>\n",
       "<table border=\"1\" class=\"dataframe\">\n",
       "  <thead>\n",
       "    <tr style=\"text-align: right;\">\n",
       "      <th></th>\n",
       "      <th>time</th>\n",
       "      <th>content</th>\n",
       "    </tr>\n",
       "  </thead>\n",
       "  <tbody>\n",
       "    <tr>\n",
       "      <th>0</th>\n",
       "      <td>2014-12-01 19:30:03+00:00</td>\n",
       "      <td>#AAPL:The 10 best Steve Jobs emails ever...htt...</td>\n",
       "    </tr>\n",
       "    <tr>\n",
       "      <th>1</th>\n",
       "      <td>2014-12-01 19:43:51+00:00</td>\n",
       "      <td>RT @JPDesloges: Why AAPL Stock Had a Mini-Flas...</td>\n",
       "    </tr>\n",
       "  </tbody>\n",
       "</table>\n",
       "</div>"
      ],
      "text/plain": [
       "                       time                                            content\n",
       "0 2014-12-01 19:30:03+00:00  #AAPL:The 10 best Steve Jobs emails ever...htt...\n",
       "1 2014-12-01 19:43:51+00:00  RT @JPDesloges: Why AAPL Stock Had a Mini-Flas..."
      ]
     },
     "execution_count": 30,
     "metadata": {},
     "output_type": "execute_result"
    }
   ],
   "source": [
    "df3.head(2)"
   ]
  },
  {
   "cell_type": "code",
   "execution_count": 31,
   "metadata": {},
   "outputs": [],
   "source": [
    "drop_ind = []\n",
    "for i, line in enumerate(df3.content):\n",
    "    if len(set(line) - set(alphabet)) != 0:\n",
    "        drop_ind.append(i)\n",
    "df3.drop(drop_ind, inplace=True)"
   ]
  },
  {
   "cell_type": "code",
   "execution_count": 32,
   "metadata": {},
   "outputs": [
    {
     "name": "stdout",
     "output_type": "stream",
     "text": [
      "(3859, 2)\n"
     ]
    },
    {
     "data": {
      "application/vnd.jupyter.widget-view+json": {
       "model_id": "6a074d8053b44efc9fba4eaade06c5eb",
       "version_major": 2,
       "version_minor": 0
      },
      "text/plain": [
       "HBox(children=(HTML(value=''), FloatProgress(value=1.0, bar_style='info', layout=Layout(width='20px'), max=1.0…"
      ]
     },
     "metadata": {},
     "output_type": "display_data"
    },
    {
     "name": "stdout",
     "output_type": "stream",
     "text": [
      "\n",
      "2840\n"
     ]
    }
   ],
   "source": [
    "df3.sort_values( by='time', inplace=True )\n",
    "df3 = df3.iloc[:10000]\n",
    "print( df3.shape )\n",
    "df3.drop_duplicates(subset=['content'], inplace=True)\n",
    "ind = []\n",
    "for i, line in tqdm( enumerate( df3.content ) ):\n",
    "    if 'rt ' not in line.lower():\n",
    "        ind.append(i)\n",
    "        \n",
    "print(len(ind))\n",
    "df3 = df3.iloc[ind]"
   ]
  },
  {
   "cell_type": "code",
   "execution_count": 33,
   "metadata": {},
   "outputs": [
    {
     "name": "stdout",
     "output_type": "stream",
     "text": [
      "<class 'pandas.core.frame.DataFrame'>\n",
      "Int64Index: 2840 entries, 0 to 3883\n",
      "Data columns (total 2 columns):\n",
      " #   Column   Non-Null Count  Dtype              \n",
      "---  ------   --------------  -----              \n",
      " 0   time     2840 non-null   datetime64[ns, UTC]\n",
      " 1   content  2840 non-null   object             \n",
      "dtypes: datetime64[ns, UTC](1), object(1)\n",
      "memory usage: 66.6+ KB\n"
     ]
    }
   ],
   "source": [
    "df3.info()"
   ]
  },
  {
   "cell_type": "markdown",
   "metadata": {},
   "source": [
    "### US elections"
   ]
  },
  {
   "cell_type": "code",
   "execution_count": 34,
   "metadata": {},
   "outputs": [],
   "source": [
    "df4 = pd.DataFrame()\n",
    "dataset_dir = \"twitter_dataset/us elections 2020\""
   ]
  },
  {
   "cell_type": "code",
   "execution_count": 35,
   "metadata": {},
   "outputs": [
    {
     "data": {
      "text/html": [
       "<div>\n",
       "<style scoped>\n",
       "    .dataframe tbody tr th:only-of-type {\n",
       "        vertical-align: middle;\n",
       "    }\n",
       "\n",
       "    .dataframe tbody tr th {\n",
       "        vertical-align: top;\n",
       "    }\n",
       "\n",
       "    .dataframe thead th {\n",
       "        text-align: right;\n",
       "    }\n",
       "</style>\n",
       "<table border=\"1\" class=\"dataframe\">\n",
       "  <thead>\n",
       "    <tr style=\"text-align: right;\">\n",
       "      <th></th>\n",
       "      <th>Tweet Id</th>\n",
       "      <th>Text</th>\n",
       "      <th>Name</th>\n",
       "      <th>Screen Name</th>\n",
       "      <th>Created At</th>\n",
       "      <th>Favorites</th>\n",
       "      <th>Retweets</th>\n",
       "      <th>Language</th>\n",
       "      <th>Client</th>\n",
       "      <th>Tweet Type</th>\n",
       "      <th>Media Type</th>\n",
       "      <th>URLs</th>\n",
       "      <th>Hashtags</th>\n",
       "      <th>Mentions</th>\n",
       "    </tr>\n",
       "  </thead>\n",
       "  <tbody>\n",
       "    <tr>\n",
       "      <th>0</th>\n",
       "      <td>1096442292527874048</td>\n",
       "      <td>Deaths now outnumber births among white people...</td>\n",
       "      <td>Andrew Yang</td>\n",
       "      <td>AndrewYang</td>\n",
       "      <td>Fri Feb 15 16:13:08 +0000 2019</td>\n",
       "      <td>2215</td>\n",
       "      <td>816</td>\n",
       "      <td>English</td>\n",
       "      <td>&lt;a href=\"https://coschedule.com\" rel=\"nofollow...</td>\n",
       "      <td>Tweet</td>\n",
       "      <td>NaN</td>\n",
       "      <td>1</td>\n",
       "      <td>0</td>\n",
       "      <td>0</td>\n",
       "    </tr>\n",
       "    <tr>\n",
       "      <th>1</th>\n",
       "      <td>1096446574656393217</td>\n",
       "      <td>@pfrench99 Thanks Peter!  👍</td>\n",
       "      <td>Andrew Yang</td>\n",
       "      <td>AndrewYang</td>\n",
       "      <td>Fri Feb 15 16:30:09 +0000 2019</td>\n",
       "      <td>5</td>\n",
       "      <td>0</td>\n",
       "      <td>English</td>\n",
       "      <td>&lt;a href=\"http://twitter.com/download/iphone\" r...</td>\n",
       "      <td>Reply</td>\n",
       "      <td>NaN</td>\n",
       "      <td>0</td>\n",
       "      <td>0</td>\n",
       "      <td>1</td>\n",
       "    </tr>\n",
       "  </tbody>\n",
       "</table>\n",
       "</div>"
      ],
      "text/plain": [
       "              Tweet Id                                               Text  \\\n",
       "0  1096442292527874048  Deaths now outnumber births among white people...   \n",
       "1  1096446574656393217                        @pfrench99 Thanks Peter!  👍   \n",
       "\n",
       "          Name Screen Name                      Created At  Favorites  \\\n",
       "0  Andrew Yang  AndrewYang  Fri Feb 15 16:13:08 +0000 2019       2215   \n",
       "1  Andrew Yang  AndrewYang  Fri Feb 15 16:30:09 +0000 2019          5   \n",
       "\n",
       "   Retweets Language                                             Client  \\\n",
       "0       816  English  <a href=\"https://coschedule.com\" rel=\"nofollow...   \n",
       "1         0  English  <a href=\"http://twitter.com/download/iphone\" r...   \n",
       "\n",
       "  Tweet Type Media Type  URLs  Hashtags  Mentions  \n",
       "0      Tweet        NaN     1         0         0  \n",
       "1      Reply        NaN     0         0         1  "
      ]
     },
     "execution_count": 35,
     "metadata": {},
     "output_type": "execute_result"
    }
   ],
   "source": [
    "pd.read_csv('/'.join((dataset_dir, \"AndrewYang.csv\"))).head(2)"
   ]
  },
  {
   "cell_type": "code",
   "execution_count": 36,
   "metadata": {},
   "outputs": [],
   "source": [
    "for filename in os.listdir(dataset_dir):\n",
    "    if filename[-3:] != 'csv':\n",
    "        continue\n",
    "    tmp = pd.read_csv('/'.join((dataset_dir, filename)))\n",
    "    tmp = tmp[['Created At', 'Text']]\n",
    "    tmp.columns = ['time', 'content']\n",
    "    df4 = append(df4, tmp)"
   ]
  },
  {
   "cell_type": "code",
   "execution_count": 37,
   "metadata": {},
   "outputs": [
    {
     "data": {
      "text/plain": [
       "(77329, 2)"
      ]
     },
     "execution_count": 37,
     "metadata": {},
     "output_type": "execute_result"
    }
   ],
   "source": [
    "df4.shape"
   ]
  },
  {
   "cell_type": "code",
   "execution_count": 38,
   "metadata": {},
   "outputs": [],
   "source": [
    "df4['time'] = pd.to_datetime(df4['time'])"
   ]
  },
  {
   "cell_type": "code",
   "execution_count": 39,
   "metadata": {},
   "outputs": [],
   "source": [
    "stay_ind = []\n",
    "for i, line in enumerate(df4.content):\n",
    "    if len(set(line) - set(alphabet)) == 0:\n",
    "        stay_ind.append(i)\n",
    "\n",
    "df4 = df4.iloc[stay_ind]\n",
    "#df4.drop(drop_ind, inplace=True)"
   ]
  },
  {
   "cell_type": "code",
   "execution_count": 40,
   "metadata": {},
   "outputs": [
    {
     "data": {
      "text/plain": [
       "(50202, 2)"
      ]
     },
     "execution_count": 40,
     "metadata": {},
     "output_type": "execute_result"
    }
   ],
   "source": [
    "df4.shape"
   ]
  },
  {
   "cell_type": "code",
   "execution_count": 41,
   "metadata": {},
   "outputs": [
    {
     "name": "stdout",
     "output_type": "stream",
     "text": [
      "(10000, 2)\n"
     ]
    },
    {
     "data": {
      "application/vnd.jupyter.widget-view+json": {
       "model_id": "5fbbe5e3871041398f00a79535d6b41c",
       "version_major": 2,
       "version_minor": 0
      },
      "text/plain": [
       "HBox(children=(HTML(value=''), FloatProgress(value=1.0, bar_style='info', layout=Layout(width='20px'), max=1.0…"
      ]
     },
     "metadata": {},
     "output_type": "display_data"
    },
    {
     "name": "stdout",
     "output_type": "stream",
     "text": [
      "\n",
      "9087\n"
     ]
    }
   ],
   "source": [
    "df4.sort_values( by='time', inplace=True )\n",
    "df4 = df4.iloc[:10000]\n",
    "print( df4.shape )\n",
    "df4.drop_duplicates(subset=['content'], inplace=True)\n",
    "ind = []\n",
    "for i, line in tqdm( enumerate( df4.content ) ):\n",
    "    if 'rt ' not in line.lower():\n",
    "        ind.append(i)\n",
    "        \n",
    "print(len(ind))\n",
    "df4 = df4.iloc[ind]"
   ]
  },
  {
   "cell_type": "code",
   "execution_count": 42,
   "metadata": {},
   "outputs": [
    {
     "data": {
      "text/html": [
       "<div>\n",
       "<style scoped>\n",
       "    .dataframe tbody tr th:only-of-type {\n",
       "        vertical-align: middle;\n",
       "    }\n",
       "\n",
       "    .dataframe tbody tr th {\n",
       "        vertical-align: top;\n",
       "    }\n",
       "\n",
       "    .dataframe thead th {\n",
       "        text-align: right;\n",
       "    }\n",
       "</style>\n",
       "<table border=\"1\" class=\"dataframe\">\n",
       "  <thead>\n",
       "    <tr style=\"text-align: right;\">\n",
       "      <th></th>\n",
       "      <th>time</th>\n",
       "      <th>content</th>\n",
       "    </tr>\n",
       "  </thead>\n",
       "  <tbody>\n",
       "    <tr>\n",
       "      <th>0</th>\n",
       "      <td>2007-10-24 22:45:57+00:00</td>\n",
       "      <td>Tune in 11:30 ET tomorrow for a live webcast o...</td>\n",
       "    </tr>\n",
       "    <tr>\n",
       "      <th>1</th>\n",
       "      <td>2007-12-29 15:35:26+00:00</td>\n",
       "      <td>Iowans, there's a good chance there's a Biden ...</td>\n",
       "    </tr>\n",
       "  </tbody>\n",
       "</table>\n",
       "</div>"
      ],
      "text/plain": [
       "                       time                                            content\n",
       "0 2007-10-24 22:45:57+00:00  Tune in 11:30 ET tomorrow for a live webcast o...\n",
       "1 2007-12-29 15:35:26+00:00  Iowans, there's a good chance there's a Biden ..."
      ]
     },
     "execution_count": 42,
     "metadata": {},
     "output_type": "execute_result"
    }
   ],
   "source": [
    "df4.head(2)"
   ]
  },
  {
   "cell_type": "code",
   "execution_count": 43,
   "metadata": {},
   "outputs": [
    {
     "name": "stdout",
     "output_type": "stream",
     "text": [
      "<class 'pandas.core.frame.DataFrame'>\n",
      "Int64Index: 9087 entries, 0 to 939\n",
      "Data columns (total 2 columns):\n",
      " #   Column   Non-Null Count  Dtype              \n",
      "---  ------   --------------  -----              \n",
      " 0   time     9087 non-null   datetime64[ns, UTC]\n",
      " 1   content  9087 non-null   object             \n",
      "dtypes: datetime64[ns, UTC](1), object(1)\n",
      "memory usage: 213.0+ KB\n"
     ]
    }
   ],
   "source": [
    "df4.info()"
   ]
  },
  {
   "cell_type": "markdown",
   "metadata": {},
   "source": [
    "### Объединяем"
   ]
  },
  {
   "cell_type": "markdown",
   "metadata": {},
   "source": [
    "\"Нормальными\" твитами будем сначала считать последовательность твитов одной из групп. Начиная с некоторого момента времени, посреди твитов этой группы начнут появляться твиты другой группы. Будем помечать их как аномальные - это и будет новизна в данных. Начиная с некоторого порога появления этих \"новых\" данных, будем уже считать твиты этой группы \"нормальными\" и помечать их соответствующе. Таким же образом будем вводить твиты оставшихся групп. Так, получим размеченный датасет в виде временного ряда, который можно будет использовать для обучения и/или проверки предсказания."
   ]
  },
  {
   "cell_type": "markdown",
   "metadata": {},
   "source": [
    "### Размечаем"
   ]
  },
  {
   "cell_type": "markdown",
   "metadata": {},
   "source": [
    "Поправим вручную датасет: просмотрим твиты и удалим те из них, которые являются псевдодупликатами, либо не имеют ничего общего с тематикой. Мы хотим от каждого \"нового\" датасета 2000 экземпляров, по 5% будут новизной, то есть 100 объектов "
   ]
  },
  {
   "cell_type": "code",
   "execution_count": 44,
   "metadata": {},
   "outputs": [
    {
     "name": "stdout",
     "output_type": "stream",
     "text": [
      "[Timestamp('2019-12-01 03:17:00+0000', tz='UTC'), Timestamp('2012-07-09 12:16:00+0000', tz='UTC'), Timestamp('2014-12-01 19:30:03+0000', tz='UTC'), Timestamp('2007-10-24 22:45:57+0000', tz='UTC')]\n",
      "[Timestamp('2020-02-28 15:44:49+0000', tz='UTC'), Timestamp('2015-12-05 23:11:00+0000', tz='UTC'), Timestamp('2014-12-09 23:45:59+0000', tz='UTC'), Timestamp('2017-04-06 23:10:02+0000', tz='UTC')]\n"
     ]
    }
   ],
   "source": [
    "print( [min(df1['time']), min(df2['time']), min(df3['time']), min(df4['time'])] )\n",
    "print ( [max(df1['time']), max(df2['time']), max(df3['time']), max(df4['time'])] )"
   ]
  },
  {
   "cell_type": "markdown",
   "metadata": {},
   "source": [
    "Будем считать, что изначально нормальный класс у нас - это 4 группа твитов, там не будет новизны. \n",
    "\n",
    "В качестве новизны будем считать первые 5%(в порядке публикации твитов) каждого датасета из оставшихся."
   ]
  },
  {
   "cell_type": "code",
   "execution_count": 45,
   "metadata": {},
   "outputs": [],
   "source": [
    "df4.sort_values( by='time', inplace=True )\n",
    "df1.sort_values( by='time', inplace=True )\n",
    "df2.sort_values( by='time', inplace=True )\n",
    "df3.sort_values( by='time', inplace=True )"
   ]
  },
  {
   "cell_type": "code",
   "execution_count": null,
   "metadata": {},
   "outputs": [],
   "source": []
  },
  {
   "cell_type": "code",
   "execution_count": 46,
   "metadata": {},
   "outputs": [
    {
     "data": {
      "text/plain": [
       "((7603, 2), (22871, 2), (2840, 2), (9087, 2))"
      ]
     },
     "execution_count": 46,
     "metadata": {},
     "output_type": "execute_result"
    }
   ],
   "source": [
    "df1.shape, df2.shape, df3.shape, df4.shape"
   ]
  },
  {
   "cell_type": "code",
   "execution_count": 47,
   "metadata": {},
   "outputs": [],
   "source": [
    "lens = [2000, 2000, 2000, 9000]"
   ]
  },
  {
   "cell_type": "code",
   "execution_count": 48,
   "metadata": {},
   "outputs": [],
   "source": [
    "df4 = df4.iloc[:lens[3]]\n",
    "df4['novel'] = np.zeros( df4.shape[0], dtype=float )\n",
    "df4['type'] = np.array( [4] * df4.shape[0], dtype=int )"
   ]
  },
  {
   "cell_type": "code",
   "execution_count": 49,
   "metadata": {},
   "outputs": [],
   "source": [
    "df1 = df1.iloc[:lens[0]]\n",
    "df1['novel'] = np.array([1] * int( df1.shape[0] * 0.05 ) + [0] * (df1.shape[0] - int(df1.shape[0] * 0.05)),\n",
    "                        dtype=float)\n",
    "df1['type'] = np.array( [1] * df1.shape[0], dtype=int )"
   ]
  },
  {
   "cell_type": "code",
   "execution_count": 50,
   "metadata": {},
   "outputs": [],
   "source": [
    "df2 = df2.iloc[:lens[1]]\n",
    "df2['novel'] = np.array([1] * int( df2.shape[0] * 0.05 ) + [0] * (df2.shape[0] - int(df2.shape[0] * 0.05)),\n",
    "                        dtype=float)\n",
    "df2['type'] = np.array( [2] * df2.shape[0], dtype=int )"
   ]
  },
  {
   "cell_type": "code",
   "execution_count": 51,
   "metadata": {},
   "outputs": [],
   "source": [
    "df3 = df3.iloc[:lens[2]]\n",
    "df3['novel'] = np.array([1] * int( df3.shape[0] * 0.05 ) + [0] * (df3.shape[0] - int(df3.shape[0] * 0.05)),\n",
    "                        dtype=float)\n",
    "df3['type'] = np.array( [3] * df3.shape[0], dtype=int )"
   ]
  },
  {
   "cell_type": "markdown",
   "metadata": {},
   "source": [
    "### Скачиваем"
   ]
  },
  {
   "cell_type": "code",
   "execution_count": 52,
   "metadata": {},
   "outputs": [
    {
     "data": {
      "text/plain": [
       "((2000, 4), (2000, 4), (2000, 4), (9000, 4))"
      ]
     },
     "execution_count": 52,
     "metadata": {},
     "output_type": "execute_result"
    }
   ],
   "source": [
    "df1.shape, df2.shape, df3.shape, df4.shape"
   ]
  },
  {
   "cell_type": "code",
   "execution_count": 53,
   "metadata": {},
   "outputs": [],
   "source": [
    "df = pd.concat([df4, df1, df2, df3])"
   ]
  },
  {
   "cell_type": "code",
   "execution_count": 54,
   "metadata": {},
   "outputs": [],
   "source": [
    "df.sort_values(by='time', inplace=True)"
   ]
  },
  {
   "cell_type": "code",
   "execution_count": 55,
   "metadata": {},
   "outputs": [
    {
     "data": {
      "text/html": [
       "<div>\n",
       "<style scoped>\n",
       "    .dataframe tbody tr th:only-of-type {\n",
       "        vertical-align: middle;\n",
       "    }\n",
       "\n",
       "    .dataframe tbody tr th {\n",
       "        vertical-align: top;\n",
       "    }\n",
       "\n",
       "    .dataframe thead th {\n",
       "        text-align: right;\n",
       "    }\n",
       "</style>\n",
       "<table border=\"1\" class=\"dataframe\">\n",
       "  <thead>\n",
       "    <tr style=\"text-align: right;\">\n",
       "      <th></th>\n",
       "      <th>time</th>\n",
       "      <th>content</th>\n",
       "      <th>novel</th>\n",
       "      <th>type</th>\n",
       "    </tr>\n",
       "  </thead>\n",
       "  <tbody>\n",
       "    <tr>\n",
       "      <th>0</th>\n",
       "      <td>2007-10-24 22:45:57+00:00</td>\n",
       "      <td>Tune in 11:30 ET tomorrow for a live webcast o...</td>\n",
       "      <td>0.0</td>\n",
       "      <td>4</td>\n",
       "    </tr>\n",
       "    <tr>\n",
       "      <th>1</th>\n",
       "      <td>2007-12-29 15:35:26+00:00</td>\n",
       "      <td>Iowans, there's a good chance there's a Biden ...</td>\n",
       "      <td>0.0</td>\n",
       "      <td>4</td>\n",
       "    </tr>\n",
       "    <tr>\n",
       "      <th>0</th>\n",
       "      <td>2009-06-10 00:04:48+00:00</td>\n",
       "      <td>Met with Judge Sotomayor today. Very impressiv...</td>\n",
       "      <td>0.0</td>\n",
       "      <td>4</td>\n",
       "    </tr>\n",
       "    <tr>\n",
       "      <th>1</th>\n",
       "      <td>2009-06-12 21:28:47+00:00</td>\n",
       "      <td>PHOTOS: On June 12, Michael Bennet met with me...</td>\n",
       "      <td>0.0</td>\n",
       "      <td>4</td>\n",
       "    </tr>\n",
       "    <tr>\n",
       "      <th>2</th>\n",
       "      <td>2009-06-15 20:44:18+00:00</td>\n",
       "      <td>PHOTOS: Women for Bennet held a fundraiser for...</td>\n",
       "      <td>0.0</td>\n",
       "      <td>4</td>\n",
       "    </tr>\n",
       "  </tbody>\n",
       "</table>\n",
       "</div>"
      ],
      "text/plain": [
       "                       time  \\\n",
       "0 2007-10-24 22:45:57+00:00   \n",
       "1 2007-12-29 15:35:26+00:00   \n",
       "0 2009-06-10 00:04:48+00:00   \n",
       "1 2009-06-12 21:28:47+00:00   \n",
       "2 2009-06-15 20:44:18+00:00   \n",
       "\n",
       "                                             content  novel  type  \n",
       "0  Tune in 11:30 ET tomorrow for a live webcast o...    0.0     4  \n",
       "1  Iowans, there's a good chance there's a Biden ...    0.0     4  \n",
       "0  Met with Judge Sotomayor today. Very impressiv...    0.0     4  \n",
       "1  PHOTOS: On June 12, Michael Bennet met with me...    0.0     4  \n",
       "2  PHOTOS: Women for Bennet held a fundraiser for...    0.0     4  "
      ]
     },
     "execution_count": 55,
     "metadata": {},
     "output_type": "execute_result"
    }
   ],
   "source": [
    "df.head()"
   ]
  },
  {
   "cell_type": "code",
   "execution_count": 56,
   "metadata": {},
   "outputs": [
    {
     "name": "stdout",
     "output_type": "stream",
     "text": [
      "<class 'pandas.core.frame.DataFrame'>\n",
      "Int64Index: 15000 entries, 0 to 31107\n",
      "Data columns (total 4 columns):\n",
      " #   Column   Non-Null Count  Dtype              \n",
      "---  ------   --------------  -----              \n",
      " 0   time     15000 non-null  datetime64[ns, UTC]\n",
      " 1   content  15000 non-null  object             \n",
      " 2   novel    15000 non-null  float64            \n",
      " 3   type     15000 non-null  int64              \n",
      "dtypes: datetime64[ns, UTC](1), float64(1), int64(1), object(1)\n",
      "memory usage: 585.9+ KB\n"
     ]
    }
   ],
   "source": [
    "df.info()"
   ]
  },
  {
   "cell_type": "code",
   "execution_count": 57,
   "metadata": {},
   "outputs": [
    {
     "data": {
      "text/html": [
       "<div>\n",
       "<style scoped>\n",
       "    .dataframe tbody tr th:only-of-type {\n",
       "        vertical-align: middle;\n",
       "    }\n",
       "\n",
       "    .dataframe tbody tr th {\n",
       "        vertical-align: top;\n",
       "    }\n",
       "\n",
       "    .dataframe thead th {\n",
       "        text-align: right;\n",
       "    }\n",
       "</style>\n",
       "<table border=\"1\" class=\"dataframe\">\n",
       "  <thead>\n",
       "    <tr style=\"text-align: right;\">\n",
       "      <th></th>\n",
       "      <th>novel</th>\n",
       "      <th>type</th>\n",
       "    </tr>\n",
       "  </thead>\n",
       "  <tbody>\n",
       "    <tr>\n",
       "      <th>count</th>\n",
       "      <td>15000.000000</td>\n",
       "      <td>15000.000000</td>\n",
       "    </tr>\n",
       "    <tr>\n",
       "      <th>mean</th>\n",
       "      <td>0.020000</td>\n",
       "      <td>3.200000</td>\n",
       "    </tr>\n",
       "    <tr>\n",
       "      <th>std</th>\n",
       "      <td>0.140005</td>\n",
       "      <td>1.107587</td>\n",
       "    </tr>\n",
       "    <tr>\n",
       "      <th>min</th>\n",
       "      <td>0.000000</td>\n",
       "      <td>1.000000</td>\n",
       "    </tr>\n",
       "    <tr>\n",
       "      <th>25%</th>\n",
       "      <td>0.000000</td>\n",
       "      <td>2.000000</td>\n",
       "    </tr>\n",
       "    <tr>\n",
       "      <th>50%</th>\n",
       "      <td>0.000000</td>\n",
       "      <td>4.000000</td>\n",
       "    </tr>\n",
       "    <tr>\n",
       "      <th>75%</th>\n",
       "      <td>0.000000</td>\n",
       "      <td>4.000000</td>\n",
       "    </tr>\n",
       "    <tr>\n",
       "      <th>max</th>\n",
       "      <td>1.000000</td>\n",
       "      <td>4.000000</td>\n",
       "    </tr>\n",
       "  </tbody>\n",
       "</table>\n",
       "</div>"
      ],
      "text/plain": [
       "              novel          type\n",
       "count  15000.000000  15000.000000\n",
       "mean       0.020000      3.200000\n",
       "std        0.140005      1.107587\n",
       "min        0.000000      1.000000\n",
       "25%        0.000000      2.000000\n",
       "50%        0.000000      4.000000\n",
       "75%        0.000000      4.000000\n",
       "max        1.000000      4.000000"
      ]
     },
     "execution_count": 57,
     "metadata": {},
     "output_type": "execute_result"
    }
   ],
   "source": [
    "df.describe()"
   ]
  },
  {
   "cell_type": "code",
   "execution_count": 58,
   "metadata": {},
   "outputs": [
    {
     "data": {
      "text/plain": [
       "0.02"
      ]
     },
     "execution_count": 58,
     "metadata": {},
     "output_type": "execute_result"
    }
   ],
   "source": [
    "df.novel.sum() / df.shape[0]"
   ]
  },
  {
   "cell_type": "code",
   "execution_count": 60,
   "metadata": {},
   "outputs": [],
   "source": [
    "df.to_csv('twitter_dataset_4_9000_2000.csv')"
   ]
  },
  {
   "cell_type": "code",
   "execution_count": null,
   "metadata": {},
   "outputs": [],
   "source": []
  },
  {
   "cell_type": "code",
   "execution_count": 75,
   "metadata": {},
   "outputs": [
    {
     "data": {
      "text/plain": [
       "0        4\n",
       "1        4\n",
       "0        4\n",
       "1        4\n",
       "2        4\n",
       "        ..\n",
       "31144    1\n",
       "31135    1\n",
       "31128    1\n",
       "31119    1\n",
       "31107    1\n",
       "Name: type, Length: 15000, dtype: int64"
      ]
     },
     "execution_count": 75,
     "metadata": {},
     "output_type": "execute_result"
    }
   ],
   "source": [
    "df['type']"
   ]
  },
  {
   "cell_type": "code",
   "execution_count": null,
   "metadata": {},
   "outputs": [],
   "source": []
  },
  {
   "cell_type": "code",
   "execution_count": null,
   "metadata": {},
   "outputs": [],
   "source": []
  },
  {
   "cell_type": "code",
   "execution_count": 124,
   "metadata": {},
   "outputs": [
    {
     "name": "stderr",
     "output_type": "stream",
     "text": [
      "No handles with labels found to put in legend.\n"
     ]
    },
    {
     "data": {
      "text/plain": [
       "<matplotlib.legend.Legend at 0x7fbcc90c4730>"
      ]
     },
     "execution_count": 124,
     "metadata": {},
     "output_type": "execute_result"
    },
    {
     "data": {
      "image/png": "[encoded data removed]",
      "text/plain": [
       "<Figure size 432x360 with 1 Axes>"
      ]
     },
     "metadata": {
      "needs_background": "light"
     },
     "output_type": "display_data"
    }
   ],
   "source": [
    "plt.figure(figsize=(6,5))\n",
    "ax = plt.subplot(111)\n",
    "\n",
    "norm_height = []\n",
    "nov_height = []\n",
    "for i in range(1, 5):\n",
    "    nov_height.append( df[df['type'] == i].novel.sum() )\n",
    "    norm_height.append( df[df['type'] == i].novel.count() - df[df['type'] == i].novel.sum() )\n",
    "    \n",
    "ax.bar([1,2,3,4], norm_height)\n",
    "ax.set_xticks([1,2,3,4])\n",
    "ax.set_xticklabels(['Covid-19', 'Russian Troll Tweets', 'Apple', 'US elections'], rotation=0)\n",
    "plt.ylabel('tweets count')\n",
    "plt.title('themes distribution')\n",
    "ax.bar([1,2,3,4], nov_height)\n",
    "ax.legend()\n",
    "# plt.savefig('bins.png')"
   ]
  },
  {
   "cell_type": "code",
   "execution_count": null,
   "metadata": {},
   "outputs": [],
   "source": []
  },
  {
   "cell_type": "code",
   "execution_count": 73,
   "metadata": {},
   "outputs": [
    {
     "data": {
      "text/plain": [
       "<matplotlib.collections.PathCollection at 0x7fbcd78d0370>"
      ]
     },
     "execution_count": 73,
     "metadata": {},
     "output_type": "execute_result"
    },
    {
     "data": {
      "image/png": "[encoded data removed]",
      "text/plain": [
       "<Figure size 1296x288 with 1 Axes>"
      ]
     },
     "metadata": {
      "needs_background": "light"
     },
     "output_type": "display_data"
    }
   ],
   "source": [
    "plt.figure(figsize=(18,4))\n",
    "target = df['type'].tolist()\n",
    "norm = df[df['novel'] == 0]\n",
    "nov = df[df['novel'] == 1]\n",
    "\n",
    "plt.scatter(nov['time'], nov['type'].tolist(), c='r')\n",
    "plt.scatter(norm['time'], norm['type'].tolist(), c='b')\n",
    "\n",
    "# for tp in np.unique(target):\n",
    "#     t = df[df['type'] == tp]\n",
    "    \n",
    "    \n",
    "#     plt.scatter(t['time'], t)"
   ]
  },
  {
   "cell_type": "code",
   "execution_count": null,
   "metadata": {},
   "outputs": [],
   "source": []
  },
  {
   "cell_type": "code",
   "execution_count": null,
   "metadata": {},
   "outputs": [],
   "source": []
  },
  {
   "cell_type": "code",
   "execution_count": 100,
   "metadata": {},
   "outputs": [
    {
     "data": {
      "text/plain": [
       "array([[ 1,  1,  1,  1],\n",
       "       [ 2,  3,  4,  5],\n",
       "       [ 3,  4,  5,  6],\n",
       "       [ 7,  8,  9, 10],\n",
       "       [10, 10, 10, 10],\n",
       "       [ 6,  6,  6,  6]])"
      ]
     },
     "execution_count": 100,
     "metadata": {},
     "output_type": "execute_result"
    }
   ],
   "source": [
    "xx = np.array([\n",
    "    [10,10,10,10],\n",
    "    [3,4,5,6],\n",
    "    [2,3,4,5],\n",
    "    [7,8,9,10],\n",
    "    [1,1,1,1],\n",
    "    [6,6,6,6]\n",
    "])\n",
    "np.partition(xx, (0,1,2), axis=0)"
   ]
  },
  {
   "cell_type": "code",
   "execution_count": null,
   "metadata": {},
   "outputs": [],
   "source": []
  }
 ],
 "metadata": {
  "kernelspec": {
   "display_name": "Python 3",
   "language": "python",
   "name": "python3"
  },
  "language_info": {
   "codemirror_mode": {
    "name": "ipython",
    "version": 3
   },
   "file_extension": ".py",
   "mimetype": "text/x-python",
   "name": "python",
   "nbconvert_exporter": "python",
   "pygments_lexer": "ipython3",
   "version": "3.8.2"
  },
  "varInspector": {
   "cols": {
    "lenName": 16,
    "lenType": 16,
    "lenVar": 40
   },
   "kernels_config": {
    "python": {
     "delete_cmd_postfix": "",
     "delete_cmd_prefix": "del ",
     "library": "var_list.py",
     "varRefreshCmd": "print(var_dic_list())"
    },
    "r": {
     "delete_cmd_postfix": ") ",
     "delete_cmd_prefix": "rm(",
     "library": "var_list.r",
     "varRefreshCmd": "cat(var_dic_list()) "
    }
   },
   "types_to_exclude": [
    "module",
    "function",
    "builtin_function_or_method",
    "instance",
    "_Feature"
   ],
   "window_display": false
  }
 },
 "nbformat": 4,
 "nbformat_minor": 4
}
