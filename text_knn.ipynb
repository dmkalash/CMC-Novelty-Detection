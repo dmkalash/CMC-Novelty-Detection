{
 "cells": [
  {
   "cell_type": "markdown",
   "metadata": {},
   "source": [
    "<h1>Реализация KNN и применение алгоритма для классификации текстов</h1>"
   ]
  },
  {
   "cell_type": "code",
   "execution_count": 2,
   "metadata": {
    "id": "kppIDaV8Qfh8"
   },
   "outputs": [],
   "source": [
    "import numpy as np\n",
    "import matplotlib.pyplot as plt\n",
    "\n",
    "import seaborn as sns\n",
    "from sklearn import datasets\n",
    "from sklearn.base import BaseEstimator\n",
    "from sklearn.datasets import fetch_20newsgroups\n",
    "from sklearn.feature_extraction.text import CountVectorizer, TfidfVectorizer\n",
    "\n",
    "from sklearn.model_selection import KFold\n",
    "from sklearn.model_selection import train_test_split\n",
    "from sklearn.neighbors import KNeighborsClassifier, KDTree\n",
    "from sklearn.metrics import accuracy_score\n",
    "from sklearn.preprocessing import StandardScaler\n",
    "\n",
    "from scipy.spatial.distance import euclidean, cosine\n",
    "from scipy.spatial.distance import cdist\n",
    "\n",
    "import pandas as pd"
   ]
  },
  {
   "cell_type": "markdown",
   "metadata": {
    "id": "3_PBPrvdQfiH"
   },
   "source": [
    "Реализация класса MyKNeighborsClassifier:"
   ]
  },
  {
   "cell_type": "code",
   "execution_count": 3,
   "metadata": {
    "id": "_N4vKW3CQfiK"
   },
   "outputs": [],
   "source": [
    "class MyKNeighborsClassifier(BaseEstimator):\n",
    "    \n",
    "    def __init__(self, n_neighbors, algorithm='brute', metric='euclidean'):\n",
    "        self.n_neighbors = n_neighbors\n",
    "        self.algorithm = algorithm\n",
    "        self.metric = metric \n",
    "        self.data = dict()\n",
    "    \n",
    "    \n",
    "    def fit(self, X, y):\n",
    "        y = np.asarray(y, dtype=np.int8)\n",
    "        keys = np.unique(y)\n",
    "            \n",
    "        for key in keys:\n",
    "            self.data[key] = X[np.where(y == key)] \n",
    "            \n",
    "    \n",
    "    def predict(self, X):\n",
    "        X = np.asarray(X)\n",
    "        if self.algorithm == 'brute': \n",
    "            means = np.zeros((1, X.shape[0]), dtype=np.float32)\n",
    "            targets = np.array([], dtype=np.int8)\n",
    "            for target in self.data:\n",
    "                distances = cdist(X, self.data[target], self.metric)\n",
    "                indices = np.argpartition(distances, kth=self.n_neighbors, axis=1)[:, :self.n_neighbors]\n",
    "                distances = np.take_along_axis(distances, indices, axis=1)\n",
    "                means = np.vstack((means, np.mean(distances, axis=1)[None, ...]))\n",
    "                targets = np.append(targets, target)\n",
    "            return targets[np.argmin(means[1:], axis=0)]\n",
    "            \n",
    "        elif self.algorithm == 'kd_tree':\n",
    "            nearest_classes = np.zeros((X.shape[0], 1))\n",
    "            targets = np.array([], dtype=np.int8)\n",
    "            for target in self.data:\n",
    "                tree = KDTree(self.data[target])\n",
    "                dist, ind = tree.query(X, k=self.n_neighbors)\n",
    "                nearest_classes = np.hstack((nearest_classes, np.mean(dist, axis=1)[:, np.newaxis]))\n",
    "                targets = np.append(targets, [target])\n",
    "            return targets[np.argmin(nearest_classes[:, 1:], axis=1)]\n",
    "        \n",
    "        else:\n",
    "            return None"
   ]
  },
  {
   "cell_type": "markdown",
   "metadata": {
    "id": "s_kiwfZOQfiR"
   },
   "source": [
    "**IRIS**\n",
    "\n",
    "Для проверки корректности работы классификатора проверим его на датасете \"Ирисы Фишера\" из skitir-learn, проверим совпадения ответа с KNN из библиотеки sklearn."
   ]
  },
  {
   "cell_type": "code",
   "execution_count": 59,
   "metadata": {
    "id": "obh2ulKrQfiT"
   },
   "outputs": [],
   "source": [
    "iris = datasets.load_iris()"
   ]
  },
  {
   "cell_type": "code",
   "execution_count": 60,
   "metadata": {
    "id": "7BWZRNObQfiX"
   },
   "outputs": [],
   "source": [
    "X_train, X_test, y_train, y_test = train_test_split(iris.data, iris.target, test_size=0.1, stratify=iris.target)"
   ]
  },
  {
   "cell_type": "code",
   "execution_count": 61,
   "metadata": {
    "id": "VKMd7_n1Qfic"
   },
   "outputs": [],
   "source": [
    "clf = KNeighborsClassifier(n_neighbors=2, algorithm='brute')\n",
    "my_clf = MyKNeighborsClassifier(n_neighbors=2, algorithm='brute')"
   ]
  },
  {
   "cell_type": "code",
   "execution_count": 62,
   "metadata": {
    "id": "RQ-8jPebQfih"
   },
   "outputs": [],
   "source": [
    "clf.fit(X_train, y_train)\n",
    "my_clf.fit(X_train, y_train)\n",
    "sklearn_pred = clf.predict(X_test)\n",
    "my_clf_pred = my_clf.predict(X_test)\n",
    "assert abs( accuracy_score(y_test, my_clf_pred) -  accuracy_score(y_test, sklearn_pred ) )<0.005, \"Score must be simillar\""
   ]
  },
  {
   "cell_type": "markdown",
   "metadata": {
    "id": "Pg9B3eJJQfin"
   },
   "source": [
    "<b>Скорость</b>\n",
    "\n",
    "Сравним скорость работы с библиотечным классификатором\n"
   ]
  },
  {
   "cell_type": "code",
   "execution_count": 63,
   "metadata": {
    "colab": {
     "base_uri": "https://localhost:8080/",
     "height": 98
    },
    "id": "UjuSYJgCQfio",
    "outputId": "780ca3fa-ae31-4d5f-b292-be66fb44a801"
   },
   "outputs": [
    {
     "name": "stdout",
     "output_type": "stream",
     "text": [
      "CPU times: user 1.36 ms, sys: 4 µs, total: 1.36 ms\n",
      "Wall time: 1.26 ms\n"
     ]
    },
    {
     "data": {
      "text/plain": [
       "KNeighborsClassifier(algorithm='brute', leaf_size=30, metric='minkowski',\n",
       "                     metric_params=None, n_jobs=None, n_neighbors=2, p=2,\n",
       "                     weights='uniform')"
      ]
     },
     "execution_count": 63,
     "metadata": {
      "tags": []
     },
     "output_type": "execute_result"
    }
   ],
   "source": [
    "%time clf.fit(X_train, y_train)"
   ]
  },
  {
   "cell_type": "code",
   "execution_count": 64,
   "metadata": {
    "colab": {
     "base_uri": "https://localhost:8080/",
     "height": 49
    },
    "id": "-5LiXMVMQfit",
    "outputId": "18f670f4-fb7e-4071-f729-cd69a9033f34"
   },
   "outputs": [
    {
     "name": "stdout",
     "output_type": "stream",
     "text": [
      "CPU times: user 318 µs, sys: 0 ns, total: 318 µs\n",
      "Wall time: 280 µs\n"
     ]
    }
   ],
   "source": [
    "%time my_clf.fit(X_train, y_train)"
   ]
  },
  {
   "cell_type": "code",
   "execution_count": 65,
   "metadata": {
    "colab": {
     "base_uri": "https://localhost:8080/",
     "height": 65
    },
    "id": "TQqpu_9kQfiy",
    "outputId": "ad8e84a6-964e-4e2f-b604-863b90248279"
   },
   "outputs": [
    {
     "name": "stdout",
     "output_type": "stream",
     "text": [
      "CPU times: user 2.56 ms, sys: 0 ns, total: 2.56 ms\n",
      "Wall time: 3.39 ms\n"
     ]
    },
    {
     "data": {
      "text/plain": [
       "array([0, 2, 1, 1, 1, 0, 0, 2, 0, 2, 1, 2, 1, 2, 0])"
      ]
     },
     "execution_count": 65,
     "metadata": {
      "tags": []
     },
     "output_type": "execute_result"
    }
   ],
   "source": [
    "%time clf.predict(X_test)"
   ]
  },
  {
   "cell_type": "code",
   "execution_count": 66,
   "metadata": {
    "colab": {
     "base_uri": "https://localhost:8080/",
     "height": 65
    },
    "id": "BK8W4BOoQfi2",
    "outputId": "ccee43be-8ef3-466c-a7ac-8c727c2ad0de"
   },
   "outputs": [
    {
     "name": "stdout",
     "output_type": "stream",
     "text": [
      "CPU times: user 998 µs, sys: 0 ns, total: 998 µs\n",
      "Wall time: 1.59 ms\n"
     ]
    },
    {
     "data": {
      "text/plain": [
       "array([0, 2, 1, 1, 1, 0, 0, 2, 0, 2, 1, 2, 1, 2, 0], dtype=int8)"
      ]
     },
     "execution_count": 66,
     "metadata": {
      "tags": []
     },
     "output_type": "execute_result"
    }
   ],
   "source": [
    "%time my_clf.predict(X_test)"
   ]
  },
  {
   "cell_type": "markdown",
   "metadata": {
    "id": "OP317ka0Qfi5"
   },
   "source": [
    "###### KD Tree\n",
    "\n",
    "Добавим реализацию алгоритма kd_tree, проверим точность и сравним время работы с библиотечным классификатором."
   ]
  },
  {
   "cell_type": "code",
   "execution_count": 67,
   "metadata": {
    "id": "U-fR7KUjQfi6"
   },
   "outputs": [],
   "source": [
    "clf = KNeighborsClassifier(n_neighbors=2, algorithm='kd_tree')\n",
    "my_clf = MyKNeighborsClassifier(n_neighbors=2, algorithm='kd_tree')"
   ]
  },
  {
   "cell_type": "code",
   "execution_count": 68,
   "metadata": {
    "id": "ZLWPOeG3Qfi_"
   },
   "outputs": [],
   "source": [
    "X_train, X_test, y_train, y_test = train_test_split(iris.data, iris.target, test_size=0.1, stratify=iris.target)"
   ]
  },
  {
   "cell_type": "code",
   "execution_count": 69,
   "metadata": {
    "colab": {
     "base_uri": "https://localhost:8080/",
     "height": 98
    },
    "id": "ZVPuzw5uQfjE",
    "outputId": "6f480ad7-8a03-49e2-ce2d-75c415f55375"
   },
   "outputs": [
    {
     "name": "stdout",
     "output_type": "stream",
     "text": [
      "CPU times: user 675 µs, sys: 1.01 ms, total: 1.68 ms\n",
      "Wall time: 3.41 ms\n"
     ]
    },
    {
     "data": {
      "text/plain": [
       "KNeighborsClassifier(algorithm='kd_tree', leaf_size=30, metric='minkowski',\n",
       "                     metric_params=None, n_jobs=None, n_neighbors=2, p=2,\n",
       "                     weights='uniform')"
      ]
     },
     "execution_count": 69,
     "metadata": {
      "tags": []
     },
     "output_type": "execute_result"
    }
   ],
   "source": [
    "%time clf.fit(X_train, y_train)"
   ]
  },
  {
   "cell_type": "code",
   "execution_count": 70,
   "metadata": {
    "colab": {
     "base_uri": "https://localhost:8080/",
     "height": 49
    },
    "id": "lMKD77IKQfjI",
    "outputId": "b2166e3c-3576-4a7d-b924-8ac29aebb5f9"
   },
   "outputs": [
    {
     "name": "stdout",
     "output_type": "stream",
     "text": [
      "CPU times: user 209 µs, sys: 2 µs, total: 211 µs\n",
      "Wall time: 217 µs\n"
     ]
    }
   ],
   "source": [
    "%time my_clf.fit(X_train, y_train)"
   ]
  },
  {
   "cell_type": "code",
   "execution_count": 71,
   "metadata": {
    "colab": {
     "base_uri": "https://localhost:8080/",
     "height": 65
    },
    "id": "UyhvCrtoQfjM",
    "outputId": "00cb86e3-6cee-4b3a-c0dc-2d12302570ea"
   },
   "outputs": [
    {
     "name": "stdout",
     "output_type": "stream",
     "text": [
      "CPU times: user 3.32 ms, sys: 3 µs, total: 3.32 ms\n",
      "Wall time: 5.84 ms\n"
     ]
    },
    {
     "data": {
      "text/plain": [
       "array([1, 2, 2, 1, 0, 2, 0, 2, 1, 2, 1, 0, 1, 0, 0])"
      ]
     },
     "execution_count": 71,
     "metadata": {
      "tags": []
     },
     "output_type": "execute_result"
    }
   ],
   "source": [
    "%time clf.predict(X_test)"
   ]
  },
  {
   "cell_type": "code",
   "execution_count": 72,
   "metadata": {
    "colab": {
     "base_uri": "https://localhost:8080/",
     "height": 65
    },
    "id": "ASBHAKDdQfjQ",
    "outputId": "2592c62b-fb24-4204-92e2-d6ddca128dd7",
    "scrolled": true
   },
   "outputs": [
    {
     "name": "stdout",
     "output_type": "stream",
     "text": [
      "CPU times: user 1.83 ms, sys: 0 ns, total: 1.83 ms\n",
      "Wall time: 2.28 ms\n"
     ]
    },
    {
     "data": {
      "text/plain": [
       "array([1, 2, 2, 1, 0, 2, 0, 2, 1, 2, 1, 0, 1, 0, 0], dtype=int8)"
      ]
     },
     "execution_count": 72,
     "metadata": {
      "tags": []
     },
     "output_type": "execute_result"
    }
   ],
   "source": [
    "%time my_clf.predict(X_test)"
   ]
  },
  {
   "cell_type": "code",
   "execution_count": 73,
   "metadata": {
    "id": "84LP-wUZQfjT"
   },
   "outputs": [],
   "source": [
    "sklearn_pred = clf.predict(X_test)\n",
    "my_clf_pred = my_clf.predict(X_test)"
   ]
  },
  {
   "cell_type": "code",
   "execution_count": 74,
   "metadata": {
    "id": "H-v39IyPQfjX",
    "scrolled": false
   },
   "outputs": [],
   "source": [
    "assert abs( accuracy_score(y_test, my_clf_pred) -  accuracy_score(y_test, sklearn_pred ) )<0.005, \"Score must be simillar\""
   ]
  },
  {
   "cell_type": "markdown",
   "metadata": {
    "id": "Yp5gPe_kQfjc"
   },
   "source": [
    "**Классификация текста**\n",
    "\n",
    "Рассмотрим новый датасет 20 newsgroups"
   ]
  },
  {
   "cell_type": "code",
   "execution_count": 4,
   "metadata": {
    "colab": {
     "base_uri": "https://localhost:8080/",
     "height": 49
    },
    "id": "mFqbu-mfQfjc",
    "outputId": "ba217778-5d39-41d5-a740-7f5e10918ef9"
   },
   "outputs": [
    {
     "name": "stderr",
     "output_type": "stream",
     "text": [
      "Downloading 20news dataset. This may take a few minutes.\n",
      "Downloading dataset from https://ndownloader.figshare.com/files/5975967 (14 MB)\n"
     ]
    }
   ],
   "source": [
    "import ssl\n",
    "ssl._create_default_https_context = ssl._create_stdlib_context\n",
    "newsgroups = fetch_20newsgroups(subset='train',remove=['headers','footers', 'quotes'])\n",
    "\n",
    "data = newsgroups['data']\n",
    "target = newsgroups['target']"
   ]
  },
  {
   "cell_type": "markdown",
   "metadata": {
    "id": "dMkZHnlEQfji"
   },
   "source": [
    "Преобразуем текстовые данные из data с помощью CountVectorizer, ограничим словарь по частотности."
   ]
  },
  {
   "cell_type": "markdown",
   "metadata": {
    "id": "WKqt3-JtTBzg"
   },
   "source": [
    "Будем брать только 1000 лучших признаков, а также введем пороги для векторизации."
   ]
  },
  {
   "cell_type": "code",
   "execution_count": 10,
   "metadata": {
    "id": "uuRoFgm-RTuf"
   },
   "outputs": [],
   "source": [
    "cur_max_features=1000\n",
    "best_max_df=0.9\n",
    "best_min_df=0"
   ]
  },
  {
   "cell_type": "code",
   "execution_count": 5,
   "metadata": {
    "colab": {
     "base_uri": "https://localhost:8080/",
     "height": 32
    },
    "id": "YRY1hcUnQfjj",
    "outputId": "966320a0-58fb-41a0-acbd-32d64f25389e"
   },
   "outputs": [
    {
     "data": {
      "text/plain": [
       "(11314, 1000)"
      ]
     },
     "execution_count": 5,
     "metadata": {
      "tags": []
     },
     "output_type": "execute_result"
    }
   ],
   "source": [
    "vectorizer = CountVectorizer(max_features=cur_max_features, max_df=best_max_df, min_df=best_min_df) \n",
    "features = vectorizer.fit_transform(data).toarray()\n",
    "features.shape"
   ]
  },
  {
   "cell_type": "markdown",
   "metadata": {
    "id": "42wIVJ1_Qfjq"
   },
   "source": [
    "*Так мы получили векторное представление наших текстов. Значит можно приступать к задаче обучения модели*"
   ]
  },
  {
   "cell_type": "markdown",
   "metadata": {
    "id": "V38bKNCXQfjq"
   },
   "source": [
    "Реализуем разбиение выборки для кросс-валидации на 3 фолдах."
   ]
  },
  {
   "cell_type": "code",
   "execution_count": 5,
   "metadata": {
    "id": "TGBCMWMCQfjr"
   },
   "outputs": [],
   "source": [
    "def fold_splits(data, n_splits=3):\n",
    "    kf = KFold(n_splits)\n",
    "    return kf.split(data)"
   ]
  },
  {
   "cell_type": "markdown",
   "metadata": {
    "id": "V-5SahQhQfjt"
   },
   "source": [
    "Напишем функцию, позволяющую найти оптимальное количество ближайших соседей(дающее максимальную точность в среднем на валидации на 3 фолдах).\n",
    "Также построим график зависимости средней точности от количества соседей. Для начала можно рассмотреть число соседей от 1 до 10."
   ]
  },
  {
   "cell_type": "code",
   "execution_count": 6,
   "metadata": {
    "id": "nwIeFB0iQfj0"
   },
   "outputs": [],
   "source": [
    "def get_best_neighbors(data, target, l=1, r=30, metric='euclidean'):\n",
    "    n_scores = np.array([])\n",
    "    for n_neighbors in range(l, r + 1):\n",
    "        n_scores = np.append(n_scores, get_score(data, target, n_neighbors, metric))\n",
    "    return n_scores\n",
    "\n",
    "\n",
    "def get_score(data, target, n_neighbors, cur_metric):\n",
    "    scores = np.array([])\n",
    "    for train_index, test_index in fold_splits(data):\n",
    "        clf = MyKNeighborsClassifier(n_neighbors, algorithm='brute', metric=cur_metric)\n",
    "        X_train, X_test = data[train_index], data[test_index]\n",
    "        y_train, y_test = target[train_index], target[test_index]\n",
    "        clf.fit(X_train, y_train)\n",
    "        predict = clf.predict(X_test)\n",
    "        scores = np.append(scores, accuracy_score(y_test, predict, normalize=True))\n",
    "    return np.mean(scores)"
   ]
  },
  {
   "cell_type": "markdown",
   "metadata": {
    "id": "S4HAV87MQfj_"
   },
   "source": [
    "Нормализация"
   ]
  },
  {
   "cell_type": "code",
   "execution_count": 80,
   "metadata": {
    "id": "RoROceSbQfkA"
   },
   "outputs": [],
   "source": [
    "scaler = StandardScaler()\n",
    "scaler.fit(features)\n",
    "features = scaler.transform(features)\n",
    "features = features.astype(np.float32)"
   ]
  },
  {
   "cell_type": "code",
   "execution_count": 81,
   "metadata": {
    "id": "CH5plctrQfkC"
   },
   "outputs": [],
   "source": [
    "l_bord = 1\n",
    "r_bord = 10\n",
    "n_neighbors = np.arange(l_bord, r_bord + 1)\n",
    "n_scores = get_best_neighbors(features, target, l_bord, r_bord)"
   ]
  },
  {
   "cell_type": "code",
   "execution_count": 82,
   "metadata": {
    "colab": {
     "base_uri": "https://localhost:8080/",
     "height": 569
    },
    "id": "cNBiInBGdExG",
    "outputId": "e4b3db40-50ec-4a97-98af-0eb73b13208c"
   },
   "outputs": [
    {
     "data": {
      "image/png": "[encoded data removed]",
      "text/plain": [
       "<Figure size 1440x576 with 1 Axes>"
      ]
     },
     "metadata": {
      "tags": []
     },
     "output_type": "display_data"
    }
   ],
   "source": [
    "df_count = pd.DataFrame({\n",
    "    'method' : 'count euclidean',\n",
    "    'neighbors count' : np.arange(l_bord, r_bord + 1),\n",
    "    'score' : n_scores}\n",
    ")\n",
    "\n",
    "sns.set_theme()\n",
    "g = sns.relplot(data=df_count, x=\"neighbors count\", y=\"score\", kind='line', hue='method')\n",
    "g.fig.set_size_inches(20, 8)"
   ]
  },
  {
   "cell_type": "markdown",
   "metadata": {
    "id": "Erlvm1rkQfkK"
   },
   "source": [
    "Посмотрим, как изменится качество на валидации, если:\n",
    "\n",
    "1. Используется косинусная метрика вместо евклидовой.\n",
    "2. К текстам применяется TfIdf векторизацию\n",
    "\n",
    "Сравним модель и выберем лучшую."
   ]
  },
  {
   "cell_type": "code",
   "execution_count": 11,
   "metadata": {
    "id": "BK_wv1jMTAI3"
   },
   "outputs": [],
   "source": [
    "cn_vectorizer = CountVectorizer(max_features=cur_max_features, max_df=best_max_df, min_df=best_min_df) \n",
    "cn_features = cn_vectorizer.fit_transform(data).toarray()\n",
    "\n",
    "tf_vectorizer = TfidfVectorizer(max_features=cur_max_features, max_df=best_max_df, min_df=best_min_df)\n",
    "tf_features = tf_vectorizer.fit_transform(data).toarray()"
   ]
  },
  {
   "cell_type": "code",
   "execution_count": 12,
   "metadata": {
    "id": "FSKg3XNETuXs"
   },
   "outputs": [],
   "source": [
    "cn_scaler = StandardScaler()\n",
    "cn_scaler.fit(cn_features)\n",
    "cn_features = cn_scaler.transform(cn_features)\n",
    "cn_features = cn_features.astype(np.float32)\n",
    "\n",
    "tf_scaler = StandardScaler()\n",
    "tf_scaler.fit(tf_features)\n",
    "tf_features = tf_scaler.transform(tf_features)\n",
    "tf_features = tf_features.astype(np.float32)"
   ]
  },
  {
   "cell_type": "code",
   "execution_count": 21,
   "metadata": {
    "id": "opd7CPoSUSAG"
   },
   "outputs": [],
   "source": [
    "l_bord = 40\n",
    "r_bord = 60\n",
    "n_neighbors = np.arange(l_bord, r_bord + 1)\n",
    "\n",
    "cn_euc_n_scores = get_best_neighbors(cn_features, target, l_bord, r_bord, metric='euclidean')\n",
    "cn_cos_n_scores = get_best_neighbors(cn_features, target, l_bord, r_bord, metric='cosine')\n",
    "tf_euc_n_scores = get_best_neighbors(tf_features, target, l_bord, r_bord, metric='euclidean')\n",
    "tf_cos_n_scores = get_best_neighbors(tf_features, target, l_bord, r_bord, metric='cosine')"
   ]
  },
  {
   "cell_type": "code",
   "execution_count": 30,
   "metadata": {
    "colab": {
     "base_uri": "https://localhost:8080/",
     "height": 717
    },
    "id": "tr2AAanoUsiY",
    "outputId": "f61f030f-e018-4b02-db2d-2d5199513b4b"
   },
   "outputs": [
    {
     "name": "stdout",
     "output_type": "stream",
     "text": [
      "       neighbors count   n_scores\n",
      "count        84.000000  84.000000\n",
      "mean         50.000000   0.288780\n",
      "std           6.091669   0.161561\n",
      "min          40.000000   0.106241\n",
      "25%          45.000000   0.144690\n",
      "50%          50.000000   0.258928\n",
      "75%          55.000000   0.391440\n",
      "max          60.000000   0.528814\n"
     ]
    },
    {
     "data": {
      "image/png": "[encoded data removed]",
      "text/plain": [
       "<Figure size 1440x576 with 1 Axes>"
      ]
     },
     "metadata": {
      "tags": []
     },
     "output_type": "display_data"
    }
   ],
   "source": [
    "cmp_df = pd.concat(\n",
    "    [\n",
    "      pd.DataFrame({'neighbors count' : np.arange(l_bord, r_bord + 1), 'n_scores' : cn_euc_n_scores, 'method' : 'CountVectorizer Euclidean'}),\n",
    "      pd.DataFrame({'neighbors count' : np.arange(l_bord, r_bord + 1), 'n_scores' : cn_cos_n_scores, 'method' : 'CountVectorizer Cosine'}),\n",
    "      pd.DataFrame({'neighbors count' : np.arange(l_bord, r_bord + 1), 'n_scores' : tf_euc_n_scores, 'method' : 'TfidfVectorizer Euclidean'}),\n",
    "      pd.DataFrame({'neighbors count' : np.arange(l_bord, r_bord + 1), 'n_scores' : tf_cos_n_scores, 'method' : 'TfidfVectorizer Cosine'}),\n",
    "    ]\n",
    ")\n",
    "\n",
    "print(cmp_df.describe())\n",
    "\n",
    "sns.set_theme()\n",
    "g = sns.relplot(data=cmp_df, x=\"neighbors count\", y=\"n_scores\", kind='line', hue='method')\n",
    "g.fig.set_size_inches(20, 8)"
   ]
  },
  {
   "cell_type": "markdown",
   "metadata": {
    "id": "Qv5uVMGQRrnW"
   },
   "source": [
    "Мы рассмотрели число соседей от 40 до 60, что является наиболее показательным промежутком(опытным путем проверено, что увеличение этого параматра с единицы приводит к резкому увеличению точности, и с некоторого момента точность меняется более стабильно) для сравнения методов. Также мы выбрали 1000 самых главных признаков. Поменяем немного эти параметры."
   ]
  },
  {
   "cell_type": "markdown",
   "metadata": {
    "id": "wbjlJRpKQfko"
   },
   "source": [
    "Обозначим лучшие параметры для нашей модели. Опытным путем путем выявлено, что 70 соседей дает хороший результат за разумное время(это можно предположить и из графика), лучшие метрика и векторизация очевидны из графика выше. Ограничения max_df и min_df также подобраны опытным путем и показывают наилучшую точность. Число признаков 10000, тк это уже достаточно много, при этом на них можно получить результат до рассвета. "
   ]
  },
  {
   "cell_type": "code",
   "execution_count": 13,
   "metadata": {
    "id": "X0ukBy0iQfkt"
   },
   "outputs": [],
   "source": [
    "best_n_neighbors = 70\n",
    "best_metric = 'cosine'\n",
    "best_vectorizer = TfidfVectorizer\n",
    "best_n_features = 10000\n",
    "best_max_df=0.9\n",
    "best_min_df=0"
   ]
  },
  {
   "cell_type": "markdown",
   "metadata": {
    "id": "r4mOvl-1Qfku"
   },
   "source": [
    "Загрузим  теперь test  часть нашей выборки и преобразуем её аналогично с train частью. Не забудьте, что наборы слов в train и test части могут отличаться."
   ]
  },
  {
   "cell_type": "code",
   "execution_count": 16,
   "metadata": {
    "id": "VWYhA2g5YHuB"
   },
   "outputs": [],
   "source": [
    "vect = best_vectorizer(max_features=best_n_features, max_df=best_max_df, min_df=best_min_df)"
   ]
  },
  {
   "cell_type": "code",
   "execution_count": 17,
   "metadata": {
    "id": "tQEkezvzYL8S"
   },
   "outputs": [],
   "source": [
    "import ssl\n",
    "ssl._create_default_https_context = ssl._create_stdlib_context\n",
    "\n",
    "newsgroups = fetch_20newsgroups(subset='train',remove=['headers','footers', 'quotes'])\n",
    "train_data = newsgroups['data']\n",
    "train_target = newsgroups['target']\n",
    "\n",
    "newsgroups = fetch_20newsgroups(subset='test',remove=['headers','footers', 'quotes'])\n",
    "test_data = newsgroups['data']\n",
    "test_target = newsgroups['target']"
   ]
  },
  {
   "cell_type": "markdown",
   "metadata": {
    "id": "-JxoNsHjP5LD"
   },
   "source": [
    "Создадим общий словарь токенов, содержащихся в документах двух выборок. Всегда можем так сделать, так как используем только информацию об объектах, таргет мы не трогаем. "
   ]
  },
  {
   "cell_type": "code",
   "execution_count": 18,
   "metadata": {
    "id": "h_nFUunlYXLY"
   },
   "outputs": [],
   "source": [
    "vect.fit(train_data + test_data)\n",
    "train_features = vect.transform(train_data).toarray()\n",
    "test_features = vect.transform(test_data).toarray()"
   ]
  },
  {
   "cell_type": "code",
   "execution_count": 19,
   "metadata": {
    "id": "vPvl_scDYWxA"
   },
   "outputs": [],
   "source": [
    "train_scaler = StandardScaler()\n",
    "train_scaler.fit(train_features)\n",
    "train_features = train_scaler.transform(train_features)\n",
    "train_features = train_features.astype(np.float32)\n",
    "\n",
    "test_scaler = StandardScaler()\n",
    "test_scaler.fit(test_features)\n",
    "test_features = test_scaler.transform(test_features)\n",
    "test_features = test_features.astype(np.float32)"
   ]
  },
  {
   "cell_type": "code",
   "execution_count": 36,
   "metadata": {
    "id": "r9rcjlSuYgyI"
   },
   "outputs": [],
   "source": [
    "clf = MyKNeighborsClassifier(n_neighbors=best_n_neighbors, algorithm='brute', metric=best_metric)\n",
    "clf.fit(train_features, train_target)"
   ]
  },
  {
   "cell_type": "code",
   "execution_count": 37,
   "metadata": {
    "colab": {
     "base_uri": "https://localhost:8080/",
     "height": 32
    },
    "id": "rbQtKvJpYIRn",
    "outputId": "77eaef96-a5e1-4acc-e912-5b095b620ad2"
   },
   "outputs": [
    {
     "data": {
      "text/plain": [
       "0.6498937865108869"
      ]
     },
     "execution_count": 37,
     "metadata": {
      "tags": []
     },
     "output_type": "execute_result"
    }
   ],
   "source": [
    "predict = clf.predict(test_features)\n",
    "accuracy_score(predict, test_target)"
   ]
  },
  {
   "cell_type": "markdown",
   "metadata": {
    "id": "j_L6y4q4QQ8J"
   },
   "source": [
    "Сравним с точностью на кросс-валидации:"
   ]
  },
  {
   "cell_type": "code",
   "execution_count": 21,
   "metadata": {
    "colab": {
     "base_uri": "https://localhost:8080/",
     "height": 32
    },
    "id": "XFpHksn-NmAc",
    "outputId": "b414960d-2706-476d-8329-e10789838555"
   },
   "outputs": [
    {
     "data": {
      "text/plain": [
       "0.7006367031087558"
      ]
     },
     "execution_count": 21,
     "metadata": {
      "tags": []
     },
     "output_type": "execute_result"
    }
   ],
   "source": [
    "get_score(train_features, train_target, best_n_neighbors, best_metric)"
   ]
  },
  {
   "cell_type": "markdown",
   "metadata": {
    "id": "qGW_ZCTVQfk7"
   },
   "source": [
    "Качество на тестовой выборке отличается в худшую сторону, т.к. даже несмотря на кросс-валидацию, переобучение всегда присутствует, и на \"незнакомых\" данных алгоритм показывает худший результат. Тем не менее, точность на тестовой выборке падает не критически сильно, поэтому можно сказать, что данная модель оказалась относительно устойчива к переобучению(как минимум в рамках данного датасета)."
   ]
  }
 ],
 "metadata": {
  "colab": {
   "collapsed_sections": [],
   "name": "kalashnikov_hw1.ipynb",
   "provenance": []
  },
  "kernelspec": {
   "display_name": "Python 3",
   "language": "python",
   "name": "python3"
  },
  "language_info": {
   "codemirror_mode": {
    "name": "ipython",
    "version": 3
   },
   "file_extension": ".py",
   "mimetype": "text/x-python",
   "name": "python",
   "nbconvert_exporter": "python",
   "pygments_lexer": "ipython3",
   "version": "3.8.2"
  }
 },
 "nbformat": 4,
 "nbformat_minor": 1
}
