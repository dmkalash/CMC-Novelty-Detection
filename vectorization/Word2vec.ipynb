{
 "cells": [
  {
   "cell_type": "markdown",
   "metadata": {},
   "source": [
    "# Word2Vec"
   ]
  },
  {
   "cell_type": "markdown",
   "metadata": {},
   "source": [
    "Word2Vec - нейросетевой алгоритм, который можно использовать для векторизации текста. Он состоит из одного скрытого слоя и одного слоя проекции. Данный алгоритм позволяет учитывать не только статистические характеристики слов, но и взаимосвязь их в предложении. Сам алгоритм содержит в себе две модели: Skip-Gram и CBOW, которые были описаны в сравнительной характеристике методов векторизации:\n",
    "\n",
    "https://docs.google.com/spreadsheets/d/1I4a-wPC-n3bFgrATCmp2D33UwkeczqTXHeirSiHPGFU/edit?usp=sharing\n",
    "\n",
    "Рассмотрим основные возможности данного алгоритма, реализованного в библиотеке gensim."
   ]
  },
  {
   "cell_type": "markdown",
   "metadata": {},
   "source": [
    "Создадим датасет на базе произведения \"Идиот\" Ф.М. Достоевского. Выполнил препроцессинг текста и каждое предложение перенесём в список."
   ]
  },
  {
   "cell_type": "code",
   "execution_count": 1,
   "metadata": {},
   "outputs": [],
   "source": [
    "from sklearn.feature_extraction.text import CountVectorizer"
   ]
  },
  {
   "cell_type": "code",
   "execution_count": 2,
   "metadata": {},
   "outputs": [
    {
     "data": {
      "text/plain": [
       "['В конце ноября, в оттепель, часов в девять утра, поезд Петербургско-Варшавской железной дороги на всех парах подходил к Петербургу',\n",
       " ' Было так сыро и туманно, что насилу рассвело; в десяти шагах, вправо и влево от дороги, трудно было разглядеть хоть что-нибудь из окон вагона',\n",
       " ' Из пассажиров были и возвращавшиеся из-за границы; но более были наполнены отделения для третьего класса, и всё людом мелким и деловым, не из очень далека',\n",
       " ' Все, как водится, устали, у всех отяжелели за ночь глаза, все назяблись, все лица были бледножелтые, под цвет тумана',\n",
       " '\\n\\nВ одном из вагонов третьего класса, с рассвета, очутились друг против друга, у самого окна, два пассажира, — оба люди молодые, оба почти налегке, оба не щегольски одетые, оба с довольно замечательными физиономиями, и оба пожелавшие, наконец, войти друг с другом в разговор']"
      ]
     },
     "execution_count": 2,
     "metadata": {},
     "output_type": "execute_result"
    }
   ],
   "source": [
    "f = open('idiot.txt', 'r')\n",
    "data = f.read()\n",
    "data = list(filter(lambda s : len(s) > 2, data.split('.')))\n",
    "data[0:5]"
   ]
  },
  {
   "cell_type": "code",
   "execution_count": 3,
   "metadata": {},
   "outputs": [
    {
     "data": {
      "text/plain": [
       "['конце',\n",
       " 'ноября',\n",
       " 'оттепель',\n",
       " 'часов',\n",
       " 'девять',\n",
       " 'утра',\n",
       " 'поезд',\n",
       " 'петербургско',\n",
       " 'варшавской',\n",
       " 'железной',\n",
       " 'дороги',\n",
       " 'на',\n",
       " 'всех',\n",
       " 'парах',\n",
       " 'подходил',\n",
       " 'петербургу']"
      ]
     },
     "execution_count": 3,
     "metadata": {},
     "output_type": "execute_result"
    }
   ],
   "source": [
    "cv = CountVectorizer()\n",
    "data = list(map(cv.build_preprocessor(), data))\n",
    "text_corpus = list(map(cv.build_tokenizer(), data))\n",
    "#text_corpus = list(map(lambda elem : ' '.join(elem), listed_rows))\n",
    "text_corpus[0]"
   ]
  },
  {
   "cell_type": "markdown",
   "metadata": {},
   "source": [
    "Создадим генератор данных из корпуса и объявим модель Word2Vec."
   ]
  },
  {
   "cell_type": "code",
   "execution_count": 4,
   "metadata": {},
   "outputs": [],
   "source": [
    "import gensim.models"
   ]
  },
  {
   "cell_type": "code",
   "execution_count": 5,
   "metadata": {},
   "outputs": [],
   "source": [
    "class Corpus:\n",
    "    def __init__(self, data):\n",
    "        self.data = data\n",
    "    def __iter__(self):\n",
    "        for line in self.data:\n",
    "            yield line"
   ]
  },
  {
   "cell_type": "code",
   "execution_count": 6,
   "metadata": {},
   "outputs": [],
   "source": [
    "sentences = Corpus(text_corpus)\n",
    "model = gensim.models.Word2Vec(sentences)"
   ]
  },
  {
   "cell_type": "markdown",
   "metadata": {},
   "source": [
    "Можно получить вектор для конкретного слова."
   ]
  },
  {
   "cell_type": "code",
   "execution_count": 7,
   "metadata": {},
   "outputs": [
    {
     "data": {
      "text/plain": [
       "array([ 0.23463045, -0.06550453,  0.47465178, -0.02641075,  0.09829453,\n",
       "       -0.12611814, -0.12440079,  0.06263675,  0.24977416,  0.2773868 ,\n",
       "       -0.11974979, -0.0461483 , -0.13119695,  0.02417227, -0.14441031,\n",
       "        0.32880923,  0.10411028,  0.3710668 ,  0.19639128, -0.03419941,\n",
       "       -0.10486273,  0.2413523 ,  0.3209952 , -0.02088092, -0.10500664,\n",
       "        0.04569412, -0.10534856, -0.02274521, -0.04787788, -0.1070997 ,\n",
       "        0.09849396,  0.24132296,  0.07788125, -0.07660164, -0.10449001,\n",
       "        0.04285698, -0.1071218 , -0.23463748,  0.08214954, -0.15598509,\n",
       "        0.23683609,  0.24968506,  0.05315503,  0.42279214,  0.05181926,\n",
       "        0.24717496,  0.00752579,  0.12460137,  0.00488649, -0.3650712 ,\n",
       "       -0.14845838, -0.01503025,  0.07333352, -0.10161903,  0.00905421,\n",
       "       -0.2202108 , -0.16669962, -0.07843188, -0.2538597 , -0.0913377 ,\n",
       "       -0.15804565,  0.15725873,  0.15849385,  0.22541898,  0.23006731,\n",
       "        0.29302153, -0.22988614, -0.11654227, -0.21984485, -0.17758523,\n",
       "        0.22217172,  0.09659267, -0.26634184,  0.2518025 ,  0.18087561,\n",
       "        0.313776  ,  0.03590728,  0.15834811,  0.13952957,  0.00543134,\n",
       "       -0.10630506, -0.34602478, -0.04697163,  0.06554725, -0.18786961,\n",
       "       -0.15049253,  0.02962152, -0.0026544 ,  0.04863226,  0.04602989,\n",
       "        0.13579802, -0.20742646, -0.28222364,  0.06070756,  0.09659308,\n",
       "        0.05871388,  0.1810737 ,  0.13049576,  0.0179704 , -0.01169025],\n",
       "      dtype=float32)"
      ]
     },
     "execution_count": 7,
     "metadata": {},
     "output_type": "execute_result"
    }
   ],
   "source": [
    "vec1 = model.wv['большой']\n",
    "vec1"
   ]
  },
  {
   "cell_type": "markdown",
   "metadata": {},
   "source": [
    "Получить для конректного слова наиболее похожие на него в рамках корпуса."
   ]
  },
  {
   "cell_type": "code",
   "execution_count": 8,
   "metadata": {
    "scrolled": true
   },
   "outputs": [
    {
     "name": "stderr",
     "output_type": "stream",
     "text": [
      "<ipython-input-8-f94993e93d5a>:1: DeprecationWarning: Call to deprecated `most_similar` (Method will be removed in 4.0.0, use self.wv.most_similar() instead).\n",
      "  model.most_similar('большой')\n"
     ]
    },
    {
     "data": {
      "text/plain": [
       "[('моей', 0.9997587203979492),\n",
       " ('час', 0.9997578859329224),\n",
       " ('самым', 0.9997537732124329),\n",
       " ('долго', 0.999746561050415),\n",
       " ('совершенно', 0.9997458457946777),\n",
       " ('мгновение', 0.9997426867485046),\n",
       " ('жизни', 0.9997276663780212),\n",
       " ('свою', 0.9997244477272034),\n",
       " ('которая', 0.9997185468673706),\n",
       " ('другие', 0.9997164011001587)]"
      ]
     },
     "execution_count": 8,
     "metadata": {},
     "output_type": "execute_result"
    }
   ],
   "source": [
    "model.most_similar('большой')"
   ]
  },
  {
   "cell_type": "markdown",
   "metadata": {},
   "source": [
    "Сохранить обученную модель и загрузить модель с диска:"
   ]
  },
  {
   "cell_type": "code",
   "execution_count": 9,
   "metadata": {},
   "outputs": [
    {
     "data": {
      "text/plain": [
       "<gensim.models.word2vec.Word2Vec at 0x7fe32c478550>"
      ]
     },
     "execution_count": 9,
     "metadata": {},
     "output_type": "execute_result"
    }
   ],
   "source": [
    "import tempfile\n",
    "\n",
    "with tempfile.NamedTemporaryFile(prefix='model-', delete=False) as tmp:\n",
    "    model.save(tmp.name)\n",
    "    model2 = gensim.models.Word2Vec.load(tmp.name)\n",
    "\n",
    "model2"
   ]
  },
  {
   "cell_type": "markdown",
   "metadata": {},
   "source": [
    "Можно варьировать различные параметры модели."
   ]
  },
  {
   "cell_type": "markdown",
   "metadata": {},
   "source": [
    "Например, можно добавлять в словарь слова, которые встречаются в корпусе с достаточной частотой. Стоит заметить, что так результаты получаются более осмысленными."
   ]
  },
  {
   "cell_type": "code",
   "execution_count": 10,
   "metadata": {},
   "outputs": [],
   "source": [
    "model = gensim.models.Word2Vec(sentences=sentences, min_count=100)"
   ]
  },
  {
   "cell_type": "code",
   "execution_count": 11,
   "metadata": {},
   "outputs": [
    {
     "name": "stderr",
     "output_type": "stream",
     "text": [
      "<ipython-input-11-7219a9a426fd>:1: DeprecationWarning: Call to deprecated `most_similar` (Method will be removed in 4.0.0, use self.wv.most_similar() instead).\n",
      "  model.most_similar('князь')\n"
     ]
    },
    {
     "data": {
      "text/plain": [
       "[('сами', 0.9982596635818481),\n",
       " ('разве', 0.9979156255722046),\n",
       " ('почему', 0.9974744319915771),\n",
       " ('говорю', 0.997421383857727),\n",
       " ('хотел', 0.9973253607749939),\n",
       " ('там', 0.9973182678222656),\n",
       " ('будет', 0.9972404837608337),\n",
       " ('сегодня', 0.9971522092819214),\n",
       " ('нас', 0.9971197247505188),\n",
       " ('здесь', 0.9971163272857666)]"
      ]
     },
     "execution_count": 11,
     "metadata": {},
     "output_type": "execute_result"
    }
   ],
   "source": [
    "model.most_similar('князь')"
   ]
  },
  {
   "cell_type": "markdown",
   "metadata": {},
   "source": [
    "Ключевым параметров модели является размерность признакового пространства для векторов. Настроить его можно следующим образом:"
   ]
  },
  {
   "cell_type": "code",
   "execution_count": 12,
   "metadata": {},
   "outputs": [
    {
     "name": "stdout",
     "output_type": "stream",
     "text": [
      "CPU times: user 943 ms, sys: 30 ms, total: 973 ms\n",
      "Wall time: 495 ms\n"
     ]
    }
   ],
   "source": [
    "%%time\n",
    "model1 = gensim.models.Word2Vec(sentences=sentences, min_count=100, size=50)"
   ]
  },
  {
   "cell_type": "code",
   "execution_count": 13,
   "metadata": {},
   "outputs": [
    {
     "name": "stdout",
     "output_type": "stream",
     "text": [
      "CPU times: user 799 ms, sys: 15.4 ms, total: 815 ms\n",
      "Wall time: 459 ms\n"
     ]
    }
   ],
   "source": [
    "%%time\n",
    "model2 = gensim.models.Word2Vec(sentences=sentences, min_count=100, size=100)"
   ]
  },
  {
   "cell_type": "code",
   "execution_count": 14,
   "metadata": {},
   "outputs": [
    {
     "name": "stdout",
     "output_type": "stream",
     "text": [
      "CPU times: user 961 ms, sys: 14 ms, total: 975 ms\n",
      "Wall time: 502 ms\n"
     ]
    }
   ],
   "source": [
    "%%time\n",
    "model3 = gensim.models.Word2Vec(sentences=sentences, min_count=100, size=200)"
   ]
  },
  {
   "cell_type": "code",
   "execution_count": 15,
   "metadata": {},
   "outputs": [
    {
     "name": "stdout",
     "output_type": "stream",
     "text": [
      "CPU times: user 1.56 s, sys: 16.4 ms, total: 1.58 s\n",
      "Wall time: 692 ms\n"
     ]
    }
   ],
   "source": [
    "%%time\n",
    "model4 = gensim.models.Word2Vec(sentences=sentences, min_count=100, size=500)"
   ]
  },
  {
   "cell_type": "code",
   "execution_count": 16,
   "metadata": {},
   "outputs": [
    {
     "name": "stderr",
     "output_type": "stream",
     "text": [
      "<ipython-input-16-206304a8e816>:1: DeprecationWarning: Call to deprecated `most_similar` (Method will be removed in 4.0.0, use self.wv.most_similar() instead).\n",
      "  model1.most_similar('князь')\n"
     ]
    },
    {
     "data": {
      "text/plain": [
       "[('разве', 0.995221734046936),\n",
       " ('почему', 0.9942988157272339),\n",
       " ('вскричал', 0.9942777156829834),\n",
       " ('сказал', 0.9934864044189453),\n",
       " ('такое', 0.9932031631469727),\n",
       " ('говорю', 0.9931114912033081),\n",
       " ('зачем', 0.9927220940589905),\n",
       " ('знаете', 0.9925858378410339),\n",
       " ('давеча', 0.9925227165222168),\n",
       " ('сами', 0.992480993270874)]"
      ]
     },
     "execution_count": 16,
     "metadata": {},
     "output_type": "execute_result"
    }
   ],
   "source": [
    "model1.most_similar('князь')"
   ]
  },
  {
   "cell_type": "code",
   "execution_count": 17,
   "metadata": {},
   "outputs": [
    {
     "name": "stderr",
     "output_type": "stream",
     "text": [
      "<ipython-input-17-fb586398f99d>:1: DeprecationWarning: Call to deprecated `most_similar` (Method will be removed in 4.0.0, use self.wv.most_similar() instead).\n",
      "  model2.most_similar('князь')\n"
     ]
    },
    {
     "data": {
      "text/plain": [
       "[('сами', 0.998040497303009),\n",
       " ('разве', 0.9979743361473083),\n",
       " ('сказал', 0.9974197149276733),\n",
       " ('вскричал', 0.9973633289337158),\n",
       " ('говорю', 0.9965598583221436),\n",
       " ('зачем', 0.9965318441390991),\n",
       " ('аглая', 0.9962106943130493),\n",
       " ('спросил', 0.9961959719657898),\n",
       " ('почему', 0.9961183667182922),\n",
       " ('хорошо', 0.9961069822311401)]"
      ]
     },
     "execution_count": 17,
     "metadata": {},
     "output_type": "execute_result"
    }
   ],
   "source": [
    "model2.most_similar('князь')"
   ]
  },
  {
   "cell_type": "code",
   "execution_count": 18,
   "metadata": {},
   "outputs": [
    {
     "name": "stderr",
     "output_type": "stream",
     "text": [
      "<ipython-input-18-f7ed2c6094b2>:1: DeprecationWarning: Call to deprecated `most_similar` (Method will be removed in 4.0.0, use self.wv.most_similar() instead).\n",
      "  model3.most_similar('князь')\n"
     ]
    },
    {
     "data": {
      "text/plain": [
       "[('разве', 0.999218225479126),\n",
       " ('вскричал', 0.999096691608429),\n",
       " ('такое', 0.9982872009277344),\n",
       " ('спросил', 0.9981156587600708),\n",
       " ('сами', 0.9979504346847534),\n",
       " ('хочу', 0.9976907968521118),\n",
       " ('почему', 0.9976344108581543),\n",
       " ('ничего', 0.9975821375846863),\n",
       " ('знает', 0.9975402355194092),\n",
       " ('кто', 0.9973351955413818)]"
      ]
     },
     "execution_count": 18,
     "metadata": {},
     "output_type": "execute_result"
    }
   ],
   "source": [
    "model3.most_similar('князь')"
   ]
  },
  {
   "cell_type": "code",
   "execution_count": 19,
   "metadata": {},
   "outputs": [
    {
     "name": "stderr",
     "output_type": "stream",
     "text": [
      "<ipython-input-19-2eb6968046e4>:1: DeprecationWarning: Call to deprecated `most_similar` (Method will be removed in 4.0.0, use self.wv.most_similar() instead).\n",
      "  model4.most_similar('князь')\n"
     ]
    },
    {
     "data": {
      "text/plain": [
       "[('разве', 0.9996171593666077),\n",
       " ('вскричал', 0.9995689988136292),\n",
       " ('такое', 0.9991663694381714),\n",
       " ('спросил', 0.9991142749786377),\n",
       " ('хочу', 0.9989616870880127),\n",
       " ('сказал', 0.9988739490509033),\n",
       " ('сами', 0.9988726377487183),\n",
       " ('знает', 0.9988662004470825),\n",
       " ('же', 0.9987500905990601),\n",
       " ('ничего', 0.9987019896507263)]"
      ]
     },
     "execution_count": 19,
     "metadata": {},
     "output_type": "execute_result"
    }
   ],
   "source": [
    "model4.most_similar('князь')"
   ]
  },
  {
   "cell_type": "markdown",
   "metadata": {},
   "source": [
    "Как мы видим, результаты при разных размерах вектора отличаются, как и вероятности общих слов."
   ]
  },
  {
   "cell_type": "markdown",
   "metadata": {},
   "source": [
    "Модель можно также дообучить(что удобно, когда, например, имеется поток данных)."
   ]
  },
  {
   "cell_type": "code",
   "execution_count": 21,
   "metadata": {},
   "outputs": [
    {
     "data": {
      "text/plain": [
       "(2, 30)"
      ]
     },
     "execution_count": 21,
     "metadata": {},
     "output_type": "execute_result"
    }
   ],
   "source": [
    "upd_sentences = [['биржа', 'президент', 'модно', 'компьютер'], ['доллар', 'санкции']]\n",
    "model = gensim.models.Word2Vec(sentences=sentences, min_count=1)\n",
    "model.build_vocab(upd_sentences, update=True)\n",
    "model.train(upd_sentences, total_examples=model.corpus_count, epochs=model.epochs)"
   ]
  },
  {
   "cell_type": "code",
   "execution_count": 22,
   "metadata": {},
   "outputs": [
    {
     "name": "stderr",
     "output_type": "stream",
     "text": [
      "<ipython-input-22-5e0f069f0615>:1: DeprecationWarning: Call to deprecated `most_similar` (Method will be removed in 4.0.0, use self.wv.most_similar() instead).\n",
      "  model.most_similar('биржа')\n"
     ]
    },
    {
     "data": {
      "text/plain": [
       "[('президент', 0.31733420491218567),\n",
       " ('мстительный', 0.26500850915908813),\n",
       " ('просияла', 0.248514324426651),\n",
       " ('разуверили', 0.2422444224357605),\n",
       " ('умолкнуть', 0.24180573225021362),\n",
       " ('оправдаться', 0.23880596458911896),\n",
       " ('поступкам', 0.2270101010799408),\n",
       " ('упивался', 0.22110992670059204),\n",
       " ('тащишь', 0.21947556734085083),\n",
       " ('подличал', 0.2161554992198944)]"
      ]
     },
     "execution_count": 22,
     "metadata": {},
     "output_type": "execute_result"
    }
   ],
   "source": [
    "model.most_similar('биржа')"
   ]
  },
  {
   "cell_type": "markdown",
   "metadata": {},
   "source": [
    "Как можно заметить, вероятности того, что \"биржа\" окажется в контексте какого-нибудь слова из произведения 19 века, малы."
   ]
  },
  {
   "cell_type": "markdown",
   "metadata": {},
   "source": [
    "Второй ключевой гиперпараметр модели - размер скользящего окна. Посмотрим результат при его изменении."
   ]
  },
  {
   "cell_type": "code",
   "execution_count": 23,
   "metadata": {},
   "outputs": [
    {
     "name": "stdout",
     "output_type": "stream",
     "text": [
      "CPU times: user 970 ms, sys: 35.2 ms, total: 1.01 s\n",
      "Wall time: 532 ms\n"
     ]
    },
    {
     "name": "stderr",
     "output_type": "stream",
     "text": [
      "<timed exec>:2: DeprecationWarning: Call to deprecated `most_similar` (Method will be removed in 4.0.0, use self.wv.most_similar() instead).\n"
     ]
    },
    {
     "data": {
      "text/plain": [
       "[('теперь', 0.998115062713623),\n",
       " ('впрочем', 0.9979036450386047),\n",
       " ('тут', 0.9978523254394531),\n",
       " ('без', 0.9978126287460327),\n",
       " ('сам', 0.9978071451187134),\n",
       " ('именно', 0.997764527797699),\n",
       " ('сказать', 0.9977152943611145),\n",
       " ('ведь', 0.997685968875885),\n",
       " ('вас', 0.9975181221961975),\n",
       " ('наверно', 0.9974838495254517)]"
      ]
     },
     "execution_count": 23,
     "metadata": {},
     "output_type": "execute_result"
    }
   ],
   "source": [
    "%%time\n",
    "model = gensim.models.Word2Vec(sentences=sentences, min_count=100, size=200, window=2)\n",
    "model.most_similar('князь')"
   ]
  },
  {
   "cell_type": "code",
   "execution_count": 24,
   "metadata": {},
   "outputs": [
    {
     "name": "stdout",
     "output_type": "stream",
     "text": [
      "CPU times: user 1.07 s, sys: 29.4 ms, total: 1.1 s\n",
      "Wall time: 530 ms\n"
     ]
    },
    {
     "name": "stderr",
     "output_type": "stream",
     "text": [
      "<timed exec>:2: DeprecationWarning: Call to deprecated `most_similar` (Method will be removed in 4.0.0, use self.wv.most_similar() instead).\n"
     ]
    },
    {
     "data": {
      "text/plain": [
       "[('разве', 0.99922776222229),\n",
       " ('вскричал', 0.999096155166626),\n",
       " ('такое', 0.9982576370239258),\n",
       " ('спросил', 0.9981210827827454),\n",
       " ('сами', 0.9979745149612427),\n",
       " ('хочу', 0.997696578502655),\n",
       " ('почему', 0.9976552128791809),\n",
       " ('ничего', 0.9976552128791809),\n",
       " ('знает', 0.9975382685661316),\n",
       " ('кто', 0.997336745262146)]"
      ]
     },
     "execution_count": 24,
     "metadata": {},
     "output_type": "execute_result"
    }
   ],
   "source": [
    "%%time\n",
    "model = gensim.models.Word2Vec(sentences=sentences, min_count=100, size=200, window=5)\n",
    "model.most_similar('князь')"
   ]
  },
  {
   "cell_type": "code",
   "execution_count": 25,
   "metadata": {
    "scrolled": true
   },
   "outputs": [
    {
     "name": "stdout",
     "output_type": "stream",
     "text": [
      "CPU times: user 1.19 s, sys: 28.6 ms, total: 1.22 s\n",
      "Wall time: 564 ms\n"
     ]
    },
    {
     "name": "stderr",
     "output_type": "stream",
     "text": [
      "<timed exec>:2: DeprecationWarning: Call to deprecated `most_similar` (Method will be removed in 4.0.0, use self.wv.most_similar() instead).\n"
     ]
    },
    {
     "data": {
      "text/plain": [
       "[('сами', 0.9992179274559021),\n",
       " ('разве', 0.9987249970436096),\n",
       " ('нас', 0.9986783862113953),\n",
       " ('вскричал', 0.9984406232833862),\n",
       " ('хотел', 0.9983989000320435),\n",
       " ('сказать', 0.9983821511268616),\n",
       " ('вами', 0.9982655048370361),\n",
       " ('хочу', 0.9982091784477234),\n",
       " ('наверно', 0.9978446960449219),\n",
       " ('тут', 0.9977786540985107)]"
      ]
     },
     "execution_count": 25,
     "metadata": {},
     "output_type": "execute_result"
    }
   ],
   "source": [
    "%%time\n",
    "model = gensim.models.Word2Vec(sentences=sentences, min_count=100, size=200, window=20)\n",
    "model.most_similar('князь')"
   ]
  },
  {
   "cell_type": "markdown",
   "metadata": {},
   "source": [
    "Можно устанавливать число эпох обучения модели."
   ]
  },
  {
   "cell_type": "code",
   "execution_count": 26,
   "metadata": {},
   "outputs": [
    {
     "name": "stdout",
     "output_type": "stream",
     "text": [
      "CPU times: user 19.5 s, sys: 201 ms, total: 19.7 s\n",
      "Wall time: 8.01 s\n"
     ]
    },
    {
     "name": "stderr",
     "output_type": "stream",
     "text": [
      "<timed exec>:2: DeprecationWarning: Call to deprecated `most_similar` (Method will be removed in 4.0.0, use self.wv.most_similar() instead).\n"
     ]
    },
    {
     "data": {
      "text/plain": [
       "[('вам', 0.3673977255821228),\n",
       " ('лебедев', 0.3392542600631714),\n",
       " ('генерал', 0.2729954719543457),\n",
       " ('вы', 0.25921908020973206),\n",
       " ('же', 0.24974970519542694),\n",
       " ('коля', 0.23545955121517181),\n",
       " ('вами', 0.22644087672233582),\n",
       " ('ганя', 0.21733370423316956),\n",
       " ('так', 0.21562370657920837),\n",
       " ('ли', 0.20975883305072784)]"
      ]
     },
     "execution_count": 26,
     "metadata": {},
     "output_type": "execute_result"
    }
   ],
   "source": [
    "%%time\n",
    "model = gensim.models.Word2Vec(sentences=sentences, min_count=100, size=200, window=20, iter=100)\n",
    "model.most_similar('князь')"
   ]
  },
  {
   "cell_type": "markdown",
   "metadata": {},
   "source": [
    "Посмотрим, какие слова являются наиболее близкими к слову \"он\". В вершине списка находятся также местоимения мужского рода."
   ]
  },
  {
   "cell_type": "code",
   "execution_count": 27,
   "metadata": {
    "scrolled": true
   },
   "outputs": [
    {
     "name": "stderr",
     "output_type": "stream",
     "text": [
      "<ipython-input-27-cb6aaf2889e0>:1: DeprecationWarning: Call to deprecated `most_similar` (Method will be removed in 4.0.0, use self.wv.most_similar() instead).\n",
      "  model.most_similar('он')\n"
     ]
    },
    {
     "data": {
      "text/plain": [
       "[('его', 0.4477768540382385),\n",
       " ('ему', 0.40474849939346313),\n",
       " ('сам', 0.33224254846572876),\n",
       " ('был', 0.2910105884075165),\n",
       " ('тот', 0.2609660029411316),\n",
       " ('рогожин', 0.24196462333202362),\n",
       " ('него', 0.23252986371517181),\n",
       " ('этот', 0.22207017242908478),\n",
       " ('мог', 0.22051332890987396),\n",
       " ('ипполит', 0.21096161007881165)]"
      ]
     },
     "execution_count": 27,
     "metadata": {},
     "output_type": "execute_result"
    }
   ],
   "source": [
    "model.most_similar('он')"
   ]
  },
  {
   "cell_type": "markdown",
   "metadata": {},
   "source": [
    "Благодаря учету контекста при обучении, можно выявлять сложные признаки сходства:"
   ]
  },
  {
   "cell_type": "code",
   "execution_count": 28,
   "metadata": {},
   "outputs": [
    {
     "name": "stderr",
     "output_type": "stream",
     "text": [
      "<ipython-input-28-9e0e0ca558b2>:1: DeprecationWarning: Call to deprecated `most_similar` (Method will be removed in 4.0.0, use self.wv.most_similar() instead).\n",
      "  model.most_similar(positive=['ему', 'она'], negative=['он'], topn=3)\n"
     ]
    },
    {
     "data": {
      "text/plain": [
       "[('ней', 0.45781466364860535),\n",
       " ('ее', 0.4145718514919281),\n",
       " ('ей', 0.3716714084148407)]"
      ]
     },
     "execution_count": 28,
     "metadata": {},
     "output_type": "execute_result"
    }
   ],
   "source": [
    "model.most_similar(positive=['ему', 'она'], negative=['он'], topn=3)"
   ]
  },
  {
   "cell_type": "markdown",
   "metadata": {},
   "source": [
    "Визуализируем облако слов."
   ]
  },
  {
   "cell_type": "code",
   "execution_count": 29,
   "metadata": {},
   "outputs": [],
   "source": [
    "model = gensim.models.Word2Vec(sentences=sentences, min_count=10, size=200)"
   ]
  },
  {
   "cell_type": "code",
   "execution_count": 30,
   "metadata": {},
   "outputs": [],
   "source": [
    "from sklearn.decomposition import IncrementalPCA\n",
    "from sklearn.manifold import TSNE\n",
    "import numpy as np   \n",
    "import matplotlib.pyplot as plt\n",
    "import random"
   ]
  },
  {
   "cell_type": "code",
   "execution_count": 31,
   "metadata": {},
   "outputs": [],
   "source": [
    "def reduce_dimensions(model):\n",
    "    vectors = np.asarray(model.wv.vectors)\n",
    "    #labels = np.asarray(model.wv.vocab)\n",
    "    labels = [s for s in model.wv.vocab]\n",
    "\n",
    "    tsne = TSNE(n_components=2, random_state=0)\n",
    "    vectors = tsne.fit_transform(vectors)\n",
    "\n",
    "    x_vals = [v[0] for v in vectors]\n",
    "    y_vals = [v[1] for v in vectors]\n",
    "    \n",
    "    return x_vals, y_vals, labels"
   ]
  },
  {
   "cell_type": "code",
   "execution_count": 32,
   "metadata": {},
   "outputs": [],
   "source": [
    "def plot_words(x_vals, y_vals, labels):\n",
    "\n",
    "    random.seed(0)\n",
    "\n",
    "    plt.figure(figsize=(12, 12))\n",
    "    plt.scatter(x_vals, y_vals)\n",
    "\n",
    "    indices = list(range(len(labels)))\n",
    "    selected_indices = random.sample(indices, 25)\n",
    "    for i in selected_indices:\n",
    "        plt.annotate(labels[i], (x_vals[i], y_vals[i]))"
   ]
  },
  {
   "cell_type": "code",
   "execution_count": 33,
   "metadata": {},
   "outputs": [],
   "source": [
    "x_vals, y_vals, labels = reduce_dimensions(model)"
   ]
  },
  {
   "cell_type": "code",
   "execution_count": 34,
   "metadata": {},
   "outputs": [
    {
     "data": {
      "image/png": "[encoded data removed]",
      "text/plain": [
       "<Figure size 864x864 with 1 Axes>"
      ]
     },
     "metadata": {
      "needs_background": "light"
     },
     "output_type": "display_data"
    }
   ],
   "source": [
    "plot_words(x_vals, y_vals, labels)"
   ]
  },
  {
   "cell_type": "markdown",
   "metadata": {},
   "source": [
    "Таким образом, модель Word2Vec представляет очень мощный(и быстрый) способ векторизации текста в пространство низкой размерности с учетом контекста."
   ]
  }
 ],
 "metadata": {
  "kernelspec": {
   "display_name": "Python 3",
   "language": "python",
   "name": "python3"
  },
  "language_info": {
   "codemirror_mode": {
    "name": "ipython",
    "version": 3
   },
   "file_extension": ".py",
   "mimetype": "text/x-python",
   "name": "python",
   "nbconvert_exporter": "python",
   "pygments_lexer": "ipython3",
   "version": "3.8.2"
  }
 },
 "nbformat": 4,
 "nbformat_minor": 4
}
